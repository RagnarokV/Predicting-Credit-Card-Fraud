{
 "cells": [
  {
   "cell_type": "markdown",
   "metadata": {},
   "source": [
    "<h1><center><font size=\"6\">Predicting Credit Card Fraud</font></center></h1>\n",
    "\n",
    "<h3><center><font size=\"4\"> https://www.kaggle.com/mlg-ulb/creditcardfraud </font></center></h2>"
   ]
  },
  {
   "cell_type": "code",
   "execution_count": 1,
   "metadata": {},
   "outputs": [],
   "source": [
    "# The hyperparam only does the grid search but with precision_at_recall_threshold measure. The resampling is done outside"
   ]
  },
  {
   "cell_type": "markdown",
   "metadata": {},
   "source": [
    "<a id=\"top\"></a> <br>\n",
    "## Table of  Contents\n",
    "1. [Introduction](#1)\n",
    "1. [Initialization](#2)\n",
    "    1. [Load Packages](#21)\n",
    "    1. [Define Metadata](#22)\n",
    "    \n",
    "1. [Load Data & Validate Reduce Memory](#3)\n",
    "\n",
    "1. [Hyperparameter Tuning](#4)\n",
    "    1. [Data Prep](#41)\n",
    "        1. [Memory Footprint Reduction](#411)\n",
    "        1. [Data Splitting](#412)\n",
    "    1. [Search Algorithms - GridSearchCV](#42)\n",
    "\n",
    "1. [Test Performance](#5)\n",
    "    1. [Modelling Workflow](#51)\n",
    "    \n",
    "1. [Export Data, Pickled Model and Tuned Params](#6)\n",
    "\n",
    "1. [References](#7)"
   ]
  },
  {
   "cell_type": "markdown",
   "metadata": {},
   "source": [
    "## <a id='1'>Introduction</a>  \n",
    "We will use the raw data to perform hyperparameter tuning on the Random Forest model after resampling"
   ]
  },
  {
   "cell_type": "markdown",
   "metadata": {},
   "source": [
    "## <a id='2'>Initialization</a>  "
   ]
  },
  {
   "cell_type": "markdown",
   "metadata": {},
   "source": [
    "### <a id='21'>Load Packages</a>  "
   ]
  },
  {
   "cell_type": "markdown",
   "metadata": {},
   "source": [
    "Load the minimum number of packages to get started and add more as we go along"
   ]
  },
  {
   "cell_type": "code",
   "execution_count": 2,
   "metadata": {},
   "outputs": [],
   "source": [
    "import pandas as pd \n",
    "import numpy as np\n",
    "\n",
    "import matplotlib.pyplot as plt\n",
    "%matplotlib inline\n",
    "\n",
    "import seaborn as sns\n",
    "\n",
    "import warnings\n",
    "warnings.filterwarnings('ignore')\n",
    "# This is to suppress any deprecation warnings \n",
    "\n",
    "import os\n",
    "\n",
    "import sys\n",
    "sys.path.append(\"/home/paperspace/Kaggle Grandmaster/Udemy Superstar/Classification\") # Adds higher directory to python modules path.\n"
   ]
  },
  {
   "cell_type": "markdown",
   "metadata": {},
   "source": [
    "### <a id='22'>Define Metadata</a>  "
   ]
  },
  {
   "cell_type": "code",
   "execution_count": 3,
   "metadata": {},
   "outputs": [],
   "source": [
    "# Define the name of the target class column here instead of manually typing it out everywhere\n",
    "target_class_name = 'Class'\n",
    "\n",
    "# Fill in the names of what you want to call the 0 and 1 class\n",
    "labels = ['Non-Fraud', 'Fraud']\n",
    "\n",
    "input_file_name = 'creditcard.csv'\n",
    "\n",
    "intermediate_data_path = 'intermediate data/'\n",
    "\n",
    "output_df_file_name = 'week4_cleaned_df_output_' \n",
    "tuned_model_name = 'week4_rf_on_engineered_df_'\n",
    "tuned_model_params_name = 'week4_grid_search_rf_params_'\n",
    "\n",
    "# Enter the date in which this notebook is run\n",
    "export_date = '20200424'"
   ]
  },
  {
   "cell_type": "code",
   "execution_count": 4,
   "metadata": {},
   "outputs": [
    {
     "name": "stdout",
     "output_type": "stream",
     "text": [
      "['creditcard.csv']\n"
     ]
    }
   ],
   "source": [
    "# Check ou tthe names of the files in the input folder that we need to load as dataframe\n",
    "import os\n",
    "print(os.listdir('../input'))\n",
    "# This will list all the files in this folder"
   ]
  },
  {
   "cell_type": "markdown",
   "metadata": {},
   "source": [
    "## <a id='3'>Load Data & Validate</a>  "
   ]
  },
  {
   "cell_type": "code",
   "execution_count": 5,
   "metadata": {
    "scrolled": true
   },
   "outputs": [
    {
     "data": {
      "text/html": [
       "<div>\n",
       "<style scoped>\n",
       "    .dataframe tbody tr th:only-of-type {\n",
       "        vertical-align: middle;\n",
       "    }\n",
       "\n",
       "    .dataframe tbody tr th {\n",
       "        vertical-align: top;\n",
       "    }\n",
       "\n",
       "    .dataframe thead th {\n",
       "        text-align: right;\n",
       "    }\n",
       "</style>\n",
       "<table border=\"1\" class=\"dataframe\">\n",
       "  <thead>\n",
       "    <tr style=\"text-align: right;\">\n",
       "      <th></th>\n",
       "      <th>Time</th>\n",
       "      <th>V1</th>\n",
       "      <th>V2</th>\n",
       "      <th>V3</th>\n",
       "      <th>V4</th>\n",
       "      <th>V5</th>\n",
       "      <th>V6</th>\n",
       "      <th>V7</th>\n",
       "      <th>V8</th>\n",
       "      <th>V9</th>\n",
       "      <th>...</th>\n",
       "      <th>V21</th>\n",
       "      <th>V22</th>\n",
       "      <th>V23</th>\n",
       "      <th>V24</th>\n",
       "      <th>V25</th>\n",
       "      <th>V26</th>\n",
       "      <th>V27</th>\n",
       "      <th>V28</th>\n",
       "      <th>Amount</th>\n",
       "      <th>Class</th>\n",
       "    </tr>\n",
       "  </thead>\n",
       "  <tbody>\n",
       "    <tr>\n",
       "      <th>190271</th>\n",
       "      <td>128764.0</td>\n",
       "      <td>-0.925423</td>\n",
       "      <td>1.485747</td>\n",
       "      <td>-1.520985</td>\n",
       "      <td>-0.007618</td>\n",
       "      <td>3.564272</td>\n",
       "      <td>3.527816</td>\n",
       "      <td>0.821759</td>\n",
       "      <td>0.957055</td>\n",
       "      <td>-1.226911</td>\n",
       "      <td>...</td>\n",
       "      <td>-0.030017</td>\n",
       "      <td>-0.038729</td>\n",
       "      <td>-0.549141</td>\n",
       "      <td>0.594941</td>\n",
       "      <td>1.155092</td>\n",
       "      <td>-0.204153</td>\n",
       "      <td>-0.333146</td>\n",
       "      <td>-0.220568</td>\n",
       "      <td>21.87</td>\n",
       "      <td>0</td>\n",
       "    </tr>\n",
       "    <tr>\n",
       "      <th>229526</th>\n",
       "      <td>145960.0</td>\n",
       "      <td>2.114728</td>\n",
       "      <td>-0.124577</td>\n",
       "      <td>-1.395241</td>\n",
       "      <td>0.247095</td>\n",
       "      <td>0.155624</td>\n",
       "      <td>-0.801416</td>\n",
       "      <td>0.117737</td>\n",
       "      <td>-0.244220</td>\n",
       "      <td>0.706687</td>\n",
       "      <td>...</td>\n",
       "      <td>-0.347342</td>\n",
       "      <td>-0.899032</td>\n",
       "      <td>0.256264</td>\n",
       "      <td>-0.736342</td>\n",
       "      <td>-0.223408</td>\n",
       "      <td>0.245085</td>\n",
       "      <td>-0.076623</td>\n",
       "      <td>-0.069176</td>\n",
       "      <td>1.79</td>\n",
       "      <td>0</td>\n",
       "    </tr>\n",
       "    <tr>\n",
       "      <th>223050</th>\n",
       "      <td>143227.0</td>\n",
       "      <td>-4.303095</td>\n",
       "      <td>2.621348</td>\n",
       "      <td>-0.804766</td>\n",
       "      <td>-0.776119</td>\n",
       "      <td>-1.892081</td>\n",
       "      <td>-0.618063</td>\n",
       "      <td>-1.030647</td>\n",
       "      <td>1.561722</td>\n",
       "      <td>1.432966</td>\n",
       "      <td>...</td>\n",
       "      <td>0.173539</td>\n",
       "      <td>0.738320</td>\n",
       "      <td>0.081825</td>\n",
       "      <td>0.016671</td>\n",
       "      <td>0.170976</td>\n",
       "      <td>0.538864</td>\n",
       "      <td>-0.972460</td>\n",
       "      <td>-0.200730</td>\n",
       "      <td>31.26</td>\n",
       "      <td>0</td>\n",
       "    </tr>\n",
       "    <tr>\n",
       "      <th>22104</th>\n",
       "      <td>32038.0</td>\n",
       "      <td>0.816482</td>\n",
       "      <td>-0.647617</td>\n",
       "      <td>-0.612796</td>\n",
       "      <td>0.104169</td>\n",
       "      <td>-0.221656</td>\n",
       "      <td>-0.811799</td>\n",
       "      <td>0.661003</td>\n",
       "      <td>-0.295371</td>\n",
       "      <td>-0.417911</td>\n",
       "      <td>...</td>\n",
       "      <td>0.134773</td>\n",
       "      <td>-0.192733</td>\n",
       "      <td>-0.360372</td>\n",
       "      <td>0.111842</td>\n",
       "      <td>0.472798</td>\n",
       "      <td>1.046044</td>\n",
       "      <td>-0.165315</td>\n",
       "      <td>0.021406</td>\n",
       "      <td>259.00</td>\n",
       "      <td>0</td>\n",
       "    </tr>\n",
       "    <tr>\n",
       "      <th>171545</th>\n",
       "      <td>120689.0</td>\n",
       "      <td>1.894358</td>\n",
       "      <td>-0.335510</td>\n",
       "      <td>-0.474475</td>\n",
       "      <td>0.421134</td>\n",
       "      <td>-0.501457</td>\n",
       "      <td>0.122493</td>\n",
       "      <td>-0.969691</td>\n",
       "      <td>0.283467</td>\n",
       "      <td>1.042078</td>\n",
       "      <td>...</td>\n",
       "      <td>0.034940</td>\n",
       "      <td>0.182814</td>\n",
       "      <td>0.315294</td>\n",
       "      <td>0.616307</td>\n",
       "      <td>-0.604181</td>\n",
       "      <td>0.322196</td>\n",
       "      <td>0.005513</td>\n",
       "      <td>-0.008982</td>\n",
       "      <td>19.65</td>\n",
       "      <td>0</td>\n",
       "    </tr>\n",
       "  </tbody>\n",
       "</table>\n",
       "<p>5 rows × 31 columns</p>\n",
       "</div>"
      ],
      "text/plain": [
       "            Time        V1        V2        V3        V4        V5        V6  \\\n",
       "190271  128764.0 -0.925423  1.485747 -1.520985 -0.007618  3.564272  3.527816   \n",
       "229526  145960.0  2.114728 -0.124577 -1.395241  0.247095  0.155624 -0.801416   \n",
       "223050  143227.0 -4.303095  2.621348 -0.804766 -0.776119 -1.892081 -0.618063   \n",
       "22104    32038.0  0.816482 -0.647617 -0.612796  0.104169 -0.221656 -0.811799   \n",
       "171545  120689.0  1.894358 -0.335510 -0.474475  0.421134 -0.501457  0.122493   \n",
       "\n",
       "              V7        V8        V9  ...         V21       V22       V23  \\\n",
       "190271  0.821759  0.957055 -1.226911  ...   -0.030017 -0.038729 -0.549141   \n",
       "229526  0.117737 -0.244220  0.706687  ...   -0.347342 -0.899032  0.256264   \n",
       "223050 -1.030647  1.561722  1.432966  ...    0.173539  0.738320  0.081825   \n",
       "22104   0.661003 -0.295371 -0.417911  ...    0.134773 -0.192733 -0.360372   \n",
       "171545 -0.969691  0.283467  1.042078  ...    0.034940  0.182814  0.315294   \n",
       "\n",
       "             V24       V25       V26       V27       V28  Amount  Class  \n",
       "190271  0.594941  1.155092 -0.204153 -0.333146 -0.220568   21.87      0  \n",
       "229526 -0.736342 -0.223408  0.245085 -0.076623 -0.069176    1.79      0  \n",
       "223050  0.016671  0.170976  0.538864 -0.972460 -0.200730   31.26      0  \n",
       "22104   0.111842  0.472798  1.046044 -0.165315  0.021406  259.00      0  \n",
       "171545  0.616307 -0.604181  0.322196  0.005513 -0.008982   19.65      0  \n",
       "\n",
       "[5 rows x 31 columns]"
      ]
     },
     "execution_count": 5,
     "metadata": {},
     "output_type": "execute_result"
    }
   ],
   "source": [
    "df = pd.read_csv('../input/' + input_file_name)\n",
    "df.sample(5)"
   ]
  },
  {
   "cell_type": "markdown",
   "metadata": {},
   "source": [
    "Lets check the head & tail to make sure there is nothing going on"
   ]
  },
  {
   "cell_type": "code",
   "execution_count": 6,
   "metadata": {},
   "outputs": [
    {
     "data": {
      "text/html": [
       "<div>\n",
       "<style scoped>\n",
       "    .dataframe tbody tr th:only-of-type {\n",
       "        vertical-align: middle;\n",
       "    }\n",
       "\n",
       "    .dataframe tbody tr th {\n",
       "        vertical-align: top;\n",
       "    }\n",
       "\n",
       "    .dataframe thead th {\n",
       "        text-align: right;\n",
       "    }\n",
       "</style>\n",
       "<table border=\"1\" class=\"dataframe\">\n",
       "  <thead>\n",
       "    <tr style=\"text-align: right;\">\n",
       "      <th></th>\n",
       "      <th>Time</th>\n",
       "      <th>V1</th>\n",
       "      <th>V2</th>\n",
       "      <th>V3</th>\n",
       "      <th>V4</th>\n",
       "      <th>V5</th>\n",
       "      <th>V6</th>\n",
       "      <th>V7</th>\n",
       "      <th>V8</th>\n",
       "      <th>V9</th>\n",
       "      <th>...</th>\n",
       "      <th>V21</th>\n",
       "      <th>V22</th>\n",
       "      <th>V23</th>\n",
       "      <th>V24</th>\n",
       "      <th>V25</th>\n",
       "      <th>V26</th>\n",
       "      <th>V27</th>\n",
       "      <th>V28</th>\n",
       "      <th>Amount</th>\n",
       "      <th>Class</th>\n",
       "    </tr>\n",
       "  </thead>\n",
       "  <tbody>\n",
       "    <tr>\n",
       "      <th>0</th>\n",
       "      <td>0.0</td>\n",
       "      <td>-1.359807</td>\n",
       "      <td>-0.072781</td>\n",
       "      <td>2.536347</td>\n",
       "      <td>1.378155</td>\n",
       "      <td>-0.338321</td>\n",
       "      <td>0.462388</td>\n",
       "      <td>0.239599</td>\n",
       "      <td>0.098698</td>\n",
       "      <td>0.363787</td>\n",
       "      <td>...</td>\n",
       "      <td>-0.018307</td>\n",
       "      <td>0.277838</td>\n",
       "      <td>-0.110474</td>\n",
       "      <td>0.066928</td>\n",
       "      <td>0.128539</td>\n",
       "      <td>-0.189115</td>\n",
       "      <td>0.133558</td>\n",
       "      <td>-0.021053</td>\n",
       "      <td>149.62</td>\n",
       "      <td>0</td>\n",
       "    </tr>\n",
       "    <tr>\n",
       "      <th>1</th>\n",
       "      <td>0.0</td>\n",
       "      <td>1.191857</td>\n",
       "      <td>0.266151</td>\n",
       "      <td>0.166480</td>\n",
       "      <td>0.448154</td>\n",
       "      <td>0.060018</td>\n",
       "      <td>-0.082361</td>\n",
       "      <td>-0.078803</td>\n",
       "      <td>0.085102</td>\n",
       "      <td>-0.255425</td>\n",
       "      <td>...</td>\n",
       "      <td>-0.225775</td>\n",
       "      <td>-0.638672</td>\n",
       "      <td>0.101288</td>\n",
       "      <td>-0.339846</td>\n",
       "      <td>0.167170</td>\n",
       "      <td>0.125895</td>\n",
       "      <td>-0.008983</td>\n",
       "      <td>0.014724</td>\n",
       "      <td>2.69</td>\n",
       "      <td>0</td>\n",
       "    </tr>\n",
       "    <tr>\n",
       "      <th>2</th>\n",
       "      <td>1.0</td>\n",
       "      <td>-1.358354</td>\n",
       "      <td>-1.340163</td>\n",
       "      <td>1.773209</td>\n",
       "      <td>0.379780</td>\n",
       "      <td>-0.503198</td>\n",
       "      <td>1.800499</td>\n",
       "      <td>0.791461</td>\n",
       "      <td>0.247676</td>\n",
       "      <td>-1.514654</td>\n",
       "      <td>...</td>\n",
       "      <td>0.247998</td>\n",
       "      <td>0.771679</td>\n",
       "      <td>0.909412</td>\n",
       "      <td>-0.689281</td>\n",
       "      <td>-0.327642</td>\n",
       "      <td>-0.139097</td>\n",
       "      <td>-0.055353</td>\n",
       "      <td>-0.059752</td>\n",
       "      <td>378.66</td>\n",
       "      <td>0</td>\n",
       "    </tr>\n",
       "  </tbody>\n",
       "</table>\n",
       "<p>3 rows × 31 columns</p>\n",
       "</div>"
      ],
      "text/plain": [
       "   Time        V1        V2        V3        V4        V5        V6        V7  \\\n",
       "0   0.0 -1.359807 -0.072781  2.536347  1.378155 -0.338321  0.462388  0.239599   \n",
       "1   0.0  1.191857  0.266151  0.166480  0.448154  0.060018 -0.082361 -0.078803   \n",
       "2   1.0 -1.358354 -1.340163  1.773209  0.379780 -0.503198  1.800499  0.791461   \n",
       "\n",
       "         V8        V9  ...         V21       V22       V23       V24  \\\n",
       "0  0.098698  0.363787  ...   -0.018307  0.277838 -0.110474  0.066928   \n",
       "1  0.085102 -0.255425  ...   -0.225775 -0.638672  0.101288 -0.339846   \n",
       "2  0.247676 -1.514654  ...    0.247998  0.771679  0.909412 -0.689281   \n",
       "\n",
       "        V25       V26       V27       V28  Amount  Class  \n",
       "0  0.128539 -0.189115  0.133558 -0.021053  149.62      0  \n",
       "1  0.167170  0.125895 -0.008983  0.014724    2.69      0  \n",
       "2 -0.327642 -0.139097 -0.055353 -0.059752  378.66      0  \n",
       "\n",
       "[3 rows x 31 columns]"
      ]
     },
     "execution_count": 6,
     "metadata": {},
     "output_type": "execute_result"
    }
   ],
   "source": [
    "df.head(3)\n",
    "# What you are checking here is whether there are some unwanted headers from teh input file that \n",
    "# can corrupt our data\n",
    "# If found, either open the file and manually delete it or only load the relevant columns"
   ]
  },
  {
   "cell_type": "code",
   "execution_count": 7,
   "metadata": {},
   "outputs": [
    {
     "data": {
      "text/html": [
       "<div>\n",
       "<style scoped>\n",
       "    .dataframe tbody tr th:only-of-type {\n",
       "        vertical-align: middle;\n",
       "    }\n",
       "\n",
       "    .dataframe tbody tr th {\n",
       "        vertical-align: top;\n",
       "    }\n",
       "\n",
       "    .dataframe thead th {\n",
       "        text-align: right;\n",
       "    }\n",
       "</style>\n",
       "<table border=\"1\" class=\"dataframe\">\n",
       "  <thead>\n",
       "    <tr style=\"text-align: right;\">\n",
       "      <th></th>\n",
       "      <th>Time</th>\n",
       "      <th>V1</th>\n",
       "      <th>V2</th>\n",
       "      <th>V3</th>\n",
       "      <th>V4</th>\n",
       "      <th>V5</th>\n",
       "      <th>V6</th>\n",
       "      <th>V7</th>\n",
       "      <th>V8</th>\n",
       "      <th>V9</th>\n",
       "      <th>...</th>\n",
       "      <th>V21</th>\n",
       "      <th>V22</th>\n",
       "      <th>V23</th>\n",
       "      <th>V24</th>\n",
       "      <th>V25</th>\n",
       "      <th>V26</th>\n",
       "      <th>V27</th>\n",
       "      <th>V28</th>\n",
       "      <th>Amount</th>\n",
       "      <th>Class</th>\n",
       "    </tr>\n",
       "  </thead>\n",
       "  <tbody>\n",
       "    <tr>\n",
       "      <th>284804</th>\n",
       "      <td>172788.0</td>\n",
       "      <td>1.919565</td>\n",
       "      <td>-0.301254</td>\n",
       "      <td>-3.249640</td>\n",
       "      <td>-0.557828</td>\n",
       "      <td>2.630515</td>\n",
       "      <td>3.031260</td>\n",
       "      <td>-0.296827</td>\n",
       "      <td>0.708417</td>\n",
       "      <td>0.432454</td>\n",
       "      <td>...</td>\n",
       "      <td>0.232045</td>\n",
       "      <td>0.578229</td>\n",
       "      <td>-0.037501</td>\n",
       "      <td>0.640134</td>\n",
       "      <td>0.265745</td>\n",
       "      <td>-0.087371</td>\n",
       "      <td>0.004455</td>\n",
       "      <td>-0.026561</td>\n",
       "      <td>67.88</td>\n",
       "      <td>0</td>\n",
       "    </tr>\n",
       "    <tr>\n",
       "      <th>284805</th>\n",
       "      <td>172788.0</td>\n",
       "      <td>-0.240440</td>\n",
       "      <td>0.530483</td>\n",
       "      <td>0.702510</td>\n",
       "      <td>0.689799</td>\n",
       "      <td>-0.377961</td>\n",
       "      <td>0.623708</td>\n",
       "      <td>-0.686180</td>\n",
       "      <td>0.679145</td>\n",
       "      <td>0.392087</td>\n",
       "      <td>...</td>\n",
       "      <td>0.265245</td>\n",
       "      <td>0.800049</td>\n",
       "      <td>-0.163298</td>\n",
       "      <td>0.123205</td>\n",
       "      <td>-0.569159</td>\n",
       "      <td>0.546668</td>\n",
       "      <td>0.108821</td>\n",
       "      <td>0.104533</td>\n",
       "      <td>10.00</td>\n",
       "      <td>0</td>\n",
       "    </tr>\n",
       "    <tr>\n",
       "      <th>284806</th>\n",
       "      <td>172792.0</td>\n",
       "      <td>-0.533413</td>\n",
       "      <td>-0.189733</td>\n",
       "      <td>0.703337</td>\n",
       "      <td>-0.506271</td>\n",
       "      <td>-0.012546</td>\n",
       "      <td>-0.649617</td>\n",
       "      <td>1.577006</td>\n",
       "      <td>-0.414650</td>\n",
       "      <td>0.486180</td>\n",
       "      <td>...</td>\n",
       "      <td>0.261057</td>\n",
       "      <td>0.643078</td>\n",
       "      <td>0.376777</td>\n",
       "      <td>0.008797</td>\n",
       "      <td>-0.473649</td>\n",
       "      <td>-0.818267</td>\n",
       "      <td>-0.002415</td>\n",
       "      <td>0.013649</td>\n",
       "      <td>217.00</td>\n",
       "      <td>0</td>\n",
       "    </tr>\n",
       "  </tbody>\n",
       "</table>\n",
       "<p>3 rows × 31 columns</p>\n",
       "</div>"
      ],
      "text/plain": [
       "            Time        V1        V2        V3        V4        V5        V6  \\\n",
       "284804  172788.0  1.919565 -0.301254 -3.249640 -0.557828  2.630515  3.031260   \n",
       "284805  172788.0 -0.240440  0.530483  0.702510  0.689799 -0.377961  0.623708   \n",
       "284806  172792.0 -0.533413 -0.189733  0.703337 -0.506271 -0.012546 -0.649617   \n",
       "\n",
       "              V7        V8        V9  ...         V21       V22       V23  \\\n",
       "284804 -0.296827  0.708417  0.432454  ...    0.232045  0.578229 -0.037501   \n",
       "284805 -0.686180  0.679145  0.392087  ...    0.265245  0.800049 -0.163298   \n",
       "284806  1.577006 -0.414650  0.486180  ...    0.261057  0.643078  0.376777   \n",
       "\n",
       "             V24       V25       V26       V27       V28  Amount  Class  \n",
       "284804  0.640134  0.265745 -0.087371  0.004455 -0.026561   67.88      0  \n",
       "284805  0.123205 -0.569159  0.546668  0.108821  0.104533   10.00      0  \n",
       "284806  0.008797 -0.473649 -0.818267 -0.002415  0.013649  217.00      0  \n",
       "\n",
       "[3 rows x 31 columns]"
      ]
     },
     "execution_count": 7,
     "metadata": {},
     "output_type": "execute_result"
    }
   ],
   "source": [
    "df.tail(3)\n",
    "# similar logic here"
   ]
  },
  {
   "cell_type": "markdown",
   "metadata": {},
   "source": [
    "No data corruption seen in either the head or the tail"
   ]
  },
  {
   "cell_type": "code",
   "execution_count": 8,
   "metadata": {
    "scrolled": true
   },
   "outputs": [
    {
     "name": "stdout",
     "output_type": "stream",
     "text": [
      "<class 'pandas.core.frame.DataFrame'>\n",
      "RangeIndex: 284807 entries, 0 to 284806\n",
      "Data columns (total 31 columns):\n",
      "Time      284807 non-null float64\n",
      "V1        284807 non-null float64\n",
      "V2        284807 non-null float64\n",
      "V3        284807 non-null float64\n",
      "V4        284807 non-null float64\n",
      "V5        284807 non-null float64\n",
      "V6        284807 non-null float64\n",
      "V7        284807 non-null float64\n",
      "V8        284807 non-null float64\n",
      "V9        284807 non-null float64\n",
      "V10       284807 non-null float64\n",
      "V11       284807 non-null float64\n",
      "V12       284807 non-null float64\n",
      "V13       284807 non-null float64\n",
      "V14       284807 non-null float64\n",
      "V15       284807 non-null float64\n",
      "V16       284807 non-null float64\n",
      "V17       284807 non-null float64\n",
      "V18       284807 non-null float64\n",
      "V19       284807 non-null float64\n",
      "V20       284807 non-null float64\n",
      "V21       284807 non-null float64\n",
      "V22       284807 non-null float64\n",
      "V23       284807 non-null float64\n",
      "V24       284807 non-null float64\n",
      "V25       284807 non-null float64\n",
      "V26       284807 non-null float64\n",
      "V27       284807 non-null float64\n",
      "V28       284807 non-null float64\n",
      "Amount    284807 non-null float64\n",
      "Class     284807 non-null int64\n",
      "dtypes: float64(30), int64(1)\n",
      "memory usage: 67.4 MB\n"
     ]
    }
   ],
   "source": [
    "# Lets see the data structure\n",
    "df.info()\n",
    "# They all seem to have been correctly read "
   ]
  },
  {
   "cell_type": "markdown",
   "metadata": {},
   "source": [
    "All good to proceed"
   ]
  },
  {
   "cell_type": "markdown",
   "metadata": {},
   "source": [
    "## <a id='4'>Hyperparam Tuning</a>  "
   ]
  },
  {
   "cell_type": "markdown",
   "metadata": {},
   "source": [
    "### <a id='41'>Data Prep"
   ]
  },
  {
   "cell_type": "markdown",
   "metadata": {},
   "source": [
    "#### <a id='411'>Memory Footprint Reduction"
   ]
  },
  {
   "cell_type": "code",
   "execution_count": 9,
   "metadata": {
    "scrolled": true
   },
   "outputs": [
    {
     "name": "stdout",
     "output_type": "stream",
     "text": [
      "Memory usage of dataframe is 67.36 MB\n",
      "Column Time dtype after is uint32 \n",
      "******************************\n",
      "Column V1 dtype after is float32 \n",
      "******************************\n",
      "Column V2 dtype after is float32 \n",
      "******************************\n",
      "Column V3 dtype after is float32 \n",
      "******************************\n",
      "Column V4 dtype after is float32 \n",
      "******************************\n",
      "Column V5 dtype after is float32 \n",
      "******************************\n",
      "Column V6 dtype after is float32 \n",
      "******************************\n",
      "Column V7 dtype after is float32 \n",
      "******************************\n",
      "Column V8 dtype after is float32 \n",
      "******************************\n",
      "Column V9 dtype after is float32 \n",
      "******************************\n",
      "Column V10 dtype after is float32 \n",
      "******************************\n",
      "Column V11 dtype after is float32 \n",
      "******************************\n",
      "Column V12 dtype after is float32 \n",
      "******************************\n",
      "Column V13 dtype after is float32 \n",
      "******************************\n",
      "Column V14 dtype after is float32 \n",
      "******************************\n",
      "Column V15 dtype after is float32 \n",
      "******************************\n",
      "Column V16 dtype after is float32 \n",
      "******************************\n",
      "Column V17 dtype after is float32 \n",
      "******************************\n",
      "Column V18 dtype after is float32 \n",
      "******************************\n",
      "Column V19 dtype after is float32 \n",
      "******************************\n",
      "Column V20 dtype after is float32 \n",
      "******************************\n",
      "Column V21 dtype after is float32 \n",
      "******************************\n",
      "Column V22 dtype after is float32 \n",
      "******************************\n",
      "Column V23 dtype after is float32 \n",
      "******************************\n",
      "Column V24 dtype after is float32 \n",
      "******************************\n",
      "Column V25 dtype after is float32 \n",
      "******************************\n",
      "Column V26 dtype after is float32 \n",
      "******************************\n",
      "Column V27 dtype after is float32 \n",
      "******************************\n",
      "Column V28 dtype after is float32 \n",
      "******************************\n",
      "Column Amount dtype after is float32 \n",
      "******************************\n",
      "Column Class dtype after is float32 \n",
      "******************************\n",
      "___Memory usage after Data size reduction:___\n",
      "Memory usage is 33.68 MB \n",
      "Final data size is 50.0 percent of initial size\n"
     ]
    }
   ],
   "source": [
    "from helper_functions_comprehensive import reduce_mem_usage_function\n",
    "df, NAlist = reduce_mem_usage_function(df)\n",
    "\n",
    "# Always reduce the dataset right after loading \n",
    "#even if you are sure that when exporting it you have reduced it\n",
    "# This is because Pandas inflates the size of the data"
   ]
  },
  {
   "cell_type": "markdown",
   "metadata": {},
   "source": [
    "#### <a id='412'>Data Splitting"
   ]
  },
  {
   "cell_type": "markdown",
   "metadata": {},
   "source": [
    "#### Feature - Target split"
   ]
  },
  {
   "cell_type": "code",
   "execution_count": 10,
   "metadata": {},
   "outputs": [],
   "source": [
    "X = df.drop(target_class_name, axis=1)\n",
    "y = df[target_class_name]"
   ]
  },
  {
   "cell_type": "markdown",
   "metadata": {},
   "source": [
    "##### Train - Test Split"
   ]
  },
  {
   "cell_type": "code",
   "execution_count": 11,
   "metadata": {},
   "outputs": [
    {
     "name": "stdout",
     "output_type": "stream",
     "text": [
      "Length of (train): 227845 | positives in y (train): 394.0\n",
      "Length of (test): 56962 | positives in y (test): 98.0\n"
     ]
    }
   ],
   "source": [
    "# split into train and test set \n",
    "from sklearn.model_selection import train_test_split\n",
    "X_train, X_test, y_train, y_test = train_test_split(X, y, test_size=0.2, random_state=42, stratify=y)\n",
    "\n",
    "\n",
    "print('Length of (train): {} | positives in y (train): {}'.format(len(X_train), sum(y_train)))\n",
    "print('Length of (test): {} | positives in y (test): {}'.format(len(X_test), sum(y_test)))"
   ]
  },
  {
   "cell_type": "markdown",
   "metadata": {},
   "source": [
    "### <a id='42'>Search Algorithms GridSearchCV"
   ]
  },
  {
   "cell_type": "markdown",
   "metadata": {},
   "source": [
    "Q Why do you need to pass in your custom scoring function instead of the default?\n",
    "Because grid search uses accuracy by default which we know ahead of time that its not the right metric for imbalanced datasets\n",
    "\n",
    "https://stackoverflow.com/questions/32889929/gridsearchcv-scoring-parameter-using-scoring-f1-or-scoring-none-by-default-u\n",
    "\n",
    "You have the option to select one of these built in scoring functions\n",
    "\n",
    "https://scikit-learn.org/stable/modules/model_evaluation.html#scoring-parameter\n",
    "\n",
    "https://www.kaggle.com/c/expedia-hotel-recommendations/discussion/21154"
   ]
  },
  {
   "cell_type": "code",
   "execution_count": 12,
   "metadata": {},
   "outputs": [
    {
     "name": "stdout",
     "output_type": "stream",
     "text": [
      "Fitting 5 folds for each of 320 candidates, totalling 1600 fits\n"
     ]
    },
    {
     "name": "stderr",
     "output_type": "stream",
     "text": [
      "[Parallel(n_jobs=-1)]: Using backend LokyBackend with 8 concurrent workers.\n",
      "[Parallel(n_jobs=-1)]: Done   2 tasks      | elapsed:   18.6s\n",
      "[Parallel(n_jobs=-1)]: Done   9 tasks      | elapsed:   50.9s\n",
      "[Parallel(n_jobs=-1)]: Done  16 tasks      | elapsed:  1.9min\n",
      "[Parallel(n_jobs=-1)]: Done  25 tasks      | elapsed:  3.3min\n",
      "[Parallel(n_jobs=-1)]: Done  34 tasks      | elapsed:  4.6min\n",
      "[Parallel(n_jobs=-1)]: Done  45 tasks      | elapsed:  6.2min\n",
      "[Parallel(n_jobs=-1)]: Done  56 tasks      | elapsed:  7.8min\n",
      "[Parallel(n_jobs=-1)]: Done  69 tasks      | elapsed:  9.8min\n",
      "[Parallel(n_jobs=-1)]: Done  82 tasks      | elapsed: 11.8min\n",
      "[Parallel(n_jobs=-1)]: Done  97 tasks      | elapsed: 13.9min\n",
      "[Parallel(n_jobs=-1)]: Done 112 tasks      | elapsed: 16.4min\n",
      "[Parallel(n_jobs=-1)]: Done 129 tasks      | elapsed: 18.6min\n",
      "[Parallel(n_jobs=-1)]: Done 146 tasks      | elapsed: 20.9min\n",
      "[Parallel(n_jobs=-1)]: Done 165 tasks      | elapsed: 23.2min\n",
      "[Parallel(n_jobs=-1)]: Done 184 tasks      | elapsed: 25.7min\n",
      "[Parallel(n_jobs=-1)]: Done 205 tasks      | elapsed: 28.6min\n",
      "[Parallel(n_jobs=-1)]: Done 226 tasks      | elapsed: 31.0min\n",
      "[Parallel(n_jobs=-1)]: Done 249 tasks      | elapsed: 34.2min\n",
      "[Parallel(n_jobs=-1)]: Done 272 tasks      | elapsed: 37.1min\n",
      "[Parallel(n_jobs=-1)]: Done 297 tasks      | elapsed: 40.0min\n",
      "[Parallel(n_jobs=-1)]: Done 322 tasks      | elapsed: 43.3min\n",
      "[Parallel(n_jobs=-1)]: Done 349 tasks      | elapsed: 47.4min\n",
      "[Parallel(n_jobs=-1)]: Done 376 tasks      | elapsed: 51.2min\n",
      "[Parallel(n_jobs=-1)]: Done 405 tasks      | elapsed: 55.2min\n",
      "[Parallel(n_jobs=-1)]: Done 434 tasks      | elapsed: 59.8min\n",
      "[Parallel(n_jobs=-1)]: Done 465 tasks      | elapsed: 64.3min\n",
      "[Parallel(n_jobs=-1)]: Done 496 tasks      | elapsed: 68.7min\n",
      "[Parallel(n_jobs=-1)]: Done 529 tasks      | elapsed: 73.8min\n",
      "[Parallel(n_jobs=-1)]: Done 562 tasks      | elapsed: 78.5min\n",
      "[Parallel(n_jobs=-1)]: Done 597 tasks      | elapsed: 83.7min\n",
      "[Parallel(n_jobs=-1)]: Done 632 tasks      | elapsed: 89.0min\n",
      "[Parallel(n_jobs=-1)]: Done 669 tasks      | elapsed: 95.0min\n",
      "[Parallel(n_jobs=-1)]: Done 706 tasks      | elapsed: 101.4min\n",
      "[Parallel(n_jobs=-1)]: Done 745 tasks      | elapsed: 107.5min\n",
      "[Parallel(n_jobs=-1)]: Done 784 tasks      | elapsed: 114.2min\n",
      "[Parallel(n_jobs=-1)]: Done 825 tasks      | elapsed: 120.9min\n",
      "[Parallel(n_jobs=-1)]: Done 866 tasks      | elapsed: 127.7min\n",
      "[Parallel(n_jobs=-1)]: Done 909 tasks      | elapsed: 135.3min\n",
      "[Parallel(n_jobs=-1)]: Done 952 tasks      | elapsed: 142.8min\n",
      "[Parallel(n_jobs=-1)]: Done 997 tasks      | elapsed: 150.7min\n",
      "[Parallel(n_jobs=-1)]: Done 1042 tasks      | elapsed: 159.7min\n",
      "[Parallel(n_jobs=-1)]: Done 1089 tasks      | elapsed: 168.7min\n",
      "[Parallel(n_jobs=-1)]: Done 1136 tasks      | elapsed: 177.6min\n",
      "[Parallel(n_jobs=-1)]: Done 1185 tasks      | elapsed: 187.2min\n",
      "[Parallel(n_jobs=-1)]: Done 1234 tasks      | elapsed: 196.3min\n",
      "[Parallel(n_jobs=-1)]: Done 1285 tasks      | elapsed: 206.3min\n",
      "[Parallel(n_jobs=-1)]: Done 1336 tasks      | elapsed: 217.1min\n",
      "[Parallel(n_jobs=-1)]: Done 1389 tasks      | elapsed: 228.5min\n",
      "[Parallel(n_jobs=-1)]: Done 1442 tasks      | elapsed: 239.3min\n",
      "[Parallel(n_jobs=-1)]: Done 1497 tasks      | elapsed: 250.6min\n",
      "[Parallel(n_jobs=-1)]: Done 1552 tasks      | elapsed: 262.6min\n",
      "[Parallel(n_jobs=-1)]: Done 1600 out of 1600 | elapsed: 274.6min finished\n"
     ]
    },
    {
     "name": "stdout",
     "output_type": "stream",
     "text": [
      "CPU times: user 1min 29s, sys: 7.3 s, total: 1min 37s\n",
      "Wall time: 4h 35min 24s\n"
     ]
    }
   ],
   "source": [
    "%%time\n",
    "\n",
    "from helper_functions_comprehensive import metrics_store_function, augment_data_function, tune_grid_search_function\n",
    "\n",
    "from sklearn.ensemble import RandomForestClassifier\n",
    "# from collections import Counter\n",
    "\n",
    "# This is for the hyperparam tuning and KFold CV\n",
    "from sklearn.model_selection import GridSearchCV, StratifiedShuffleSplit\n",
    "\n",
    "# Classification metrics\n",
    "from sklearn.metrics import precision_score, recall_score, f1_score, roc_auc_score, average_precision_score, fbeta_score\n",
    "\n",
    "# Higher Number of decision trees used in the ensemble will increase the accuracy\n",
    "n_estimators = [10, 20, 50, 100]\n",
    "\n",
    "# Increasing number of levels in tree may cause overfitting\n",
    "max_depth = [6, 7, 8, 9, 10]\n",
    "\n",
    "# Higher number of samples required to split a node will reduce overfitting\n",
    "min_samples_split = [10, 20, 50, 100]\n",
    "\n",
    "# Higher number of samples required at each leaf node will also reduce overfitting\n",
    "min_samples_leaf = [10, 20, 50, 100]\n",
    "\n",
    "# Create the grid for the random search. \n",
    "rf_params = {'n_estimators': n_estimators,\n",
    "            'max_depth':max_depth,\n",
    "            'min_samples_split':min_samples_split,\n",
    "            'min_samples_leaf':min_samples_leaf}\n",
    "\n",
    "# For now, we will be keeping the same classifier as what was used in the previous weeks\n",
    "classifier_type = RandomForestClassifier\n",
    "\n",
    "# Keep a holdout set that has not been sampled\n",
    "cv_fold_X_train, cv_fold_X_val, cv_fold_y_train, cv_fold_y_val = train_test_split(X_train, y_train, \n",
    "                                                    test_size=0.2, random_state=42, stratify=y_train)\n",
    "\n",
    "\n",
    "X_train_resampled, y_train_resampled = augment_data_function(cv_fold_X_train, cv_fold_y_train,  \n",
    "                                           positive_upsampling_ratio=4, negative_upsampling_ratio=2)\n",
    "\n",
    "hyperparam_results = tune_grid_search_function(X_train_resampled, y_train_resampled, cv_fold_X_val, cv_fold_y_val,\n",
    "                                                 rf_params, classifier_type = classifier_type)"
   ]
  },
  {
   "cell_type": "code",
   "execution_count": 13,
   "metadata": {},
   "outputs": [
    {
     "name": "stdout",
     "output_type": "stream",
     "text": [
      "---------------------------------------------------------------------------------------------------------------------------------------\n",
      "\n",
      "Accuracy: 0.9993\n",
      "Precision: 1.0\n",
      "Recall: 0.7468\n",
      "F1: 0.7919\n",
      "AUC ROC: 0.8733\n",
      "F2: 0.9993\n",
      "---------------------------------------------------------------------------------------------------------------------------------------\n"
     ]
    }
   ],
   "source": [
    "classification_metrics_dict = hyperparam_results['classification_metrics']\n",
    "\n",
    "######### Pretty print\n",
    "print('---' * 45)\n",
    "print('')\n",
    "\n",
    "print(\"Accuracy: {}\".format(round(classification_metrics_dict['accuracy'],4)))\n",
    "print(\"Precision: {}\".format(round(classification_metrics_dict['precision']),4))\n",
    "print(\"Recall: {}\".format(round(classification_metrics_dict['recall'],4)))\n",
    "print(\"F1: {}\".format(round(classification_metrics_dict['f1'],4)))\n",
    "print(\"AUC ROC: {}\".format(round(classification_metrics_dict['roc_auc'],4)))\n",
    "print(\"F2: {}\".format(round(classification_metrics_dict['f2'],4)))\n",
    "\n",
    "#     print('Custom metric is {}'.format(hyperparam_results['custom_metric']))\n",
    "print('---' * 45)\n",
    "\n"
   ]
  },
  {
   "cell_type": "markdown",
   "metadata": {},
   "source": [
    "Check out how the best params look like"
   ]
  },
  {
   "cell_type": "code",
   "execution_count": 21,
   "metadata": {},
   "outputs": [
    {
     "data": {
      "text/plain": [
       "Counter({'internal_grid_search_scores': [0.9755119700826043,\n",
       "          0.9809162444492804,\n",
       "          0.978254128272444,\n",
       "          0.9817760770611507,\n",
       "          0.9756082447461811,\n",
       "          0.979138545245881,\n",
       "          0.9791466342223818,\n",
       "          0.9800310390866557,\n",
       "          0.9747629944165124,\n",
       "          0.9738785895522387,\n",
       "          0.9729533542632817,\n",
       "          0.972068949399008,\n",
       "          0.972068949399008,\n",
       "          0.9737829644761785,\n",
       "          0.972068949399008,\n",
       "          0.972068949399008,\n",
       "          0.970300030525099,\n",
       "          0.9729221310110817,\n",
       "          0.9720931816719292,\n",
       "          0.971192512146124,\n",
       "          0.9729533542632817,\n",
       "          0.9738458358843068,\n",
       "          0.9729533542632817,\n",
       "          0.971192512146124,\n",
       "          0.9694156256608254,\n",
       "          0.972068949399008,\n",
       "          0.972068949399008,\n",
       "          0.972068949399008,\n",
       "          0.9712233180666868,\n",
       "          0.9738065358753554,\n",
       "          0.972068949399008,\n",
       "          0.971192512146124,\n",
       "          0.9694075489040742,\n",
       "          0.971192512146124,\n",
       "          0.970323935317033,\n",
       "          0.970323935317033,\n",
       "          0.9598750964604422,\n",
       "          0.9721335754702634,\n",
       "          0.970323935317033,\n",
       "          0.970323935317033,\n",
       "          0.970300030525099,\n",
       "          0.9694470812701321,\n",
       "          0.971192512146124,\n",
       "          0.971192512146124,\n",
       "          0.9703239234245847,\n",
       "          0.9659641585676979,\n",
       "          0.970323935317033,\n",
       "          0.970323935317033,\n",
       "          0.9687420808825137,\n",
       "          0.970323935317033,\n",
       "          0.970323935317033,\n",
       "          0.9694631136382013,\n",
       "          0.9669857917201884,\n",
       "          0.970323935317033,\n",
       "          0.970323935317033,\n",
       "          0.970323935317033,\n",
       "          0.9677380296415844,\n",
       "          0.9633347398404959,\n",
       "          0.970323935317033,\n",
       "          0.970323935317033,\n",
       "          0.9600197590322082,\n",
       "          0.966855159906661,\n",
       "          0.9694631136382013,\n",
       "          0.970323935317033,\n",
       "          0.9817515234071622,\n",
       "          0.9791145534181159,\n",
       "          0.9817921094292198,\n",
       "          0.9826685586821757,\n",
       "          0.9764926496104549,\n",
       "          0.9791466342223818,\n",
       "          0.9817921094292198,\n",
       "          0.9817921094292198,\n",
       "          0.9685470488317341,\n",
       "          0.9729140542543304,\n",
       "          0.9738540237890868,\n",
       "          0.9729533542632817,\n",
       "          0.970323935317033,\n",
       "          0.9720456937581977,\n",
       "          0.971192512146124,\n",
       "          0.972068949399008,\n",
       "          0.9711532121371728,\n",
       "          0.9738298156254009,\n",
       "          0.972068949399008,\n",
       "          0.9738540237890868,\n",
       "          0.9702766796967636,\n",
       "          0.9738458358843068,\n",
       "          0.9738823034218811,\n",
       "          0.9738458358843068,\n",
       "          0.970323935317033,\n",
       "          0.9702846353080815,\n",
       "          0.9738540237890868,\n",
       "          0.972068949399008,\n",
       "          0.9694156256608254,\n",
       "          0.9685391884079414,\n",
       "          0.972068949399008,\n",
       "          0.972068949399008,\n",
       "          0.971192512146124,\n",
       "          0.9694314536960078,\n",
       "          0.970323935317033,\n",
       "          0.970323935317033,\n",
       "          0.9694631136382013,\n",
       "          0.970323935317033,\n",
       "          0.971192512146124,\n",
       "          0.971192512146124,\n",
       "          0.970268807272899,\n",
       "          0.970300030525099,\n",
       "          0.9711771169291067,\n",
       "          0.970323935317033,\n",
       "          0.9703079029489635,\n",
       "          0.9694631136382013,\n",
       "          0.971192512146124,\n",
       "          0.970323935317033,\n",
       "          0.9560871112507776,\n",
       "          0.968585822363687,\n",
       "          0.970323935317033,\n",
       "          0.970323935317033,\n",
       "          0.9637446000649246,\n",
       "          0.9629014063686668,\n",
       "          0.9685470488317341,\n",
       "          0.970323935317033,\n",
       "          0.9477766435135212,\n",
       "          0.971192512146124,\n",
       "          0.970323935317033,\n",
       "          0.970323935317033,\n",
       "          0.9535814360126783,\n",
       "          0.970323935317033,\n",
       "          0.970323935317033,\n",
       "          0.970323935317033,\n",
       "          0.9809235207076805,\n",
       "          0.9817760770611507,\n",
       "          0.983569240539838,\n",
       "          0.9826685586821757,\n",
       "          0.9791145654181878,\n",
       "          0.9808754196445089,\n",
       "          0.9800310390866557,\n",
       "          0.9817921094292198,\n",
       "          0.9729696309248851,\n",
       "          0.9729696189248132,\n",
       "          0.9747465054101119,\n",
       "          0.9756161760285861,\n",
       "          0.9694156256608254,\n",
       "          0.9711532121371728,\n",
       "          0.970323935317033,\n",
       "          0.972068949399008,\n",
       "          0.9738785895522387,\n",
       "          0.9738298156254009,\n",
       "          0.9756554760375374,\n",
       "          0.9747465054101119,\n",
       "          0.971192512146124,\n",
       "          0.9738785895522387,\n",
       "          0.9738065358753554,\n",
       "          0.9729533542632817,\n",
       "          0.9685391884079414,\n",
       "          0.971192512146124,\n",
       "          0.9685470488317341,\n",
       "          0.972068949399008,\n",
       "          0.9643792950219926,\n",
       "          0.972068949399008,\n",
       "          0.971192512146124,\n",
       "          0.972068949399008,\n",
       "          0.970300030525099,\n",
       "          0.9694314536960078,\n",
       "          0.9685391884079414,\n",
       "          0.970323935317033,\n",
       "          0.970300030525099,\n",
       "          0.970323935317033,\n",
       "          0.9694631136382013,\n",
       "          0.970323935317033,\n",
       "          0.970323935317033,\n",
       "          0.9685391884079414,\n",
       "          0.9711764677779827,\n",
       "          0.971192512146124,\n",
       "          0.9694631253197001,\n",
       "          0.9702920749137811,\n",
       "          0.970323935317033,\n",
       "          0.971192512146124,\n",
       "          0.9593702436134747,\n",
       "          0.970316295250275,\n",
       "          0.970316295250275,\n",
       "          0.970323935317033,\n",
       "          0.9570335522569294,\n",
       "          0.970323935317033,\n",
       "          0.970323935317033,\n",
       "          0.970323935317033,\n",
       "          0.9669857225466483,\n",
       "          0.970323935317033,\n",
       "          0.9711771169291067,\n",
       "          0.970323935317033,\n",
       "          0.9694314536960078,\n",
       "          0.970316295250275,\n",
       "          0.9711771169291067,\n",
       "          0.970323935317033,\n",
       "          0.9817679134852834,\n",
       "          0.9835692282079807,\n",
       "          0.9826685586821757,\n",
       "          0.9817760770611507,\n",
       "          0.9799989582823896,\n",
       "          0.9800152229439208,\n",
       "          0.9808754075353454,\n",
       "          0.9817760770611507,\n",
       "          0.972084801543426,\n",
       "          0.9711764677779827,\n",
       "          0.9756229546630676,\n",
       "          0.9756148900154797,\n",
       "          0.9729533542632817,\n",
       "          0.970323935317033,\n",
       "          0.972068949399008,\n",
       "          0.9729533542632817,\n",
       "          0.9729065272232945,\n",
       "          0.9711452565258548,\n",
       "          0.9738705127954873,\n",
       "          0.9729696189248132,\n",
       "          0.9711452565258548,\n",
       "          0.970323935317033,\n",
       "          0.9721096706783297,\n",
       "          0.9738540237890869,\n",
       "          0.9747465054101119,\n",
       "          0.9703867603578025,\n",
       "          0.9729533542632817,\n",
       "          0.972068949399008,\n",
       "          0.9694631136382013,\n",
       "          0.9720456937581977,\n",
       "          0.971192512146124,\n",
       "          0.972068949399008,\n",
       "          0.9694631136382013,\n",
       "          0.9694553465954937,\n",
       "          0.970323935317033,\n",
       "          0.970323935317033,\n",
       "          0.9677020432956375,\n",
       "          0.970323935317033,\n",
       "          0.9694631136382013,\n",
       "          0.970323935317033,\n",
       "          0.9694238136292501,\n",
       "          0.970323935317033,\n",
       "          0.971192512146124,\n",
       "          0.971192512146124,\n",
       "          0.971192512146124,\n",
       "          0.9694314536960078,\n",
       "          0.970323935317033,\n",
       "          0.971192512146124,\n",
       "          0.9600958299213456,\n",
       "          0.9694631136382013,\n",
       "          0.970323935317033,\n",
       "          0.970323935317033,\n",
       "          0.9694156256608253,\n",
       "          0.9694631136382013,\n",
       "          0.970323935317033,\n",
       "          0.970323935317033,\n",
       "          0.9550921808393283,\n",
       "          0.970323935317033,\n",
       "          0.9694631136382013,\n",
       "          0.970323935317033,\n",
       "          0.963372381622942,\n",
       "          0.9676862271529026,\n",
       "          0.970323935317033,\n",
       "          0.970323935317033,\n",
       "          0.9800310390866557,\n",
       "          0.9826685586821757,\n",
       "          0.9808996278081947,\n",
       "          0.9826685586821757,\n",
       "          0.980015234943993,\n",
       "          0.9845191489364314,\n",
       "          0.9817760770611507,\n",
       "          0.9826685586821757,\n",
       "          0.9756804055478714,\n",
       "          0.9729221310110817,\n",
       "          0.9756394436694681,\n",
       "          0.972068949399008,\n",
       "          0.9737985802640374,\n",
       "          0.971192512146124,\n",
       "          0.9729533542632817,\n",
       "          0.972068949399008,\n",
       "          0.9747072054011605,\n",
       "          0.9729696189248132,\n",
       "          0.9747304730420425,\n",
       "          0.9738540237890868,\n",
       "          0.9721335754702636,\n",
       "          0.9756472112649018,\n",
       "          0.9756229546630676,\n",
       "          0.9738705127954873,\n",
       "          0.9738785895522387,\n",
       "          0.971192512146124,\n",
       "          0.972068949399008,\n",
       "          0.971192512146124,\n",
       "          0.9720140456022696,\n",
       "          0.970300030525099,\n",
       "          0.9729533542632817,\n",
       "          0.9702920629137091,\n",
       "          0.9685470488317341,\n",
       "          0.970323935317033,\n",
       "          0.970323935317033,\n",
       "          0.970323935317033,\n",
       "          0.972068949399008,\n",
       "          0.9694631136382013,\n",
       "          0.971192512146124,\n",
       "          0.970323935317033,\n",
       "          0.9694156256608253,\n",
       "          0.971192512146124,\n",
       "          0.9694631136382013,\n",
       "          0.970323935317033,\n",
       "          0.971192512146124,\n",
       "          0.967654567210709,\n",
       "          0.971192512146124,\n",
       "          0.971192512146124,\n",
       "          0.9694631136382013,\n",
       "          0.9694631136382013,\n",
       "          0.9694631136382013,\n",
       "          0.9694631136382013,\n",
       "          0.9563188965192128,\n",
       "          0.9694783039847119,\n",
       "          0.970323935317033,\n",
       "          0.970323935317033,\n",
       "          0.9541222181187947,\n",
       "          0.9694631136382013,\n",
       "          0.970323935317033,\n",
       "          0.9694631136382013,\n",
       "          0.9460199536043911,\n",
       "          0.970323935317033,\n",
       "          0.970323935317033,\n",
       "          0.970323935317033],\n",
       "         'best_params': {'max_depth': 10,\n",
       "          'min_samples_leaf': 10,\n",
       "          'min_samples_split': 20,\n",
       "          'n_estimators': 20},\n",
       "         'classification_metrics': Counter({'accuracy': 0.9993197129627598,\n",
       "                  'precision': 0.8428571428571429,\n",
       "                  'recall': 0.7468354430379747,\n",
       "                  'f1': 0.7919463087248322,\n",
       "                  'roc_auc': 0.8732968158254283,\n",
       "                  'f2': 0.9993104117740854,\n",
       "                  'precision_at_recall_0.85': 0.021630094043887146})})"
      ]
     },
     "execution_count": 21,
     "metadata": {},
     "output_type": "execute_result"
    }
   ],
   "source": [
    "hyperparam_results"
   ]
  },
  {
   "cell_type": "code",
   "execution_count": 27,
   "metadata": {},
   "outputs": [
    {
     "data": {
      "text/plain": [
       "320"
      ]
     },
     "execution_count": 27,
     "metadata": {},
     "output_type": "execute_result"
    }
   ],
   "source": [
    "len(hyperparam_results['internal_grid_search_scores'])\n",
    "# This contains all average cv scores during the grid search"
   ]
  },
  {
   "cell_type": "code",
   "execution_count": 36,
   "metadata": {},
   "outputs": [],
   "source": [
    "from sklearn.model_selection import ParameterGrid\n",
    "param_combo_list = []\n",
    "for combo in ParameterGrid(rf_params):\n",
    "    param_combo_list.append(combo)"
   ]
  },
  {
   "cell_type": "code",
   "execution_count": 38,
   "metadata": {},
   "outputs": [
    {
     "data": {
      "image/png": "[encoded data removed]",
      "text/plain": [
       "<Figure size 432x288 with 1 Axes>"
      ]
     },
     "metadata": {},
     "output_type": "display_data"
    }
   ],
   "source": [
    "x = range(len(param_combo_list))\n",
    "\n",
    "plt.plot(x, hyperparam_results['internal_grid_search_scores'], 'o', color='black');"
   ]
  },
  {
   "cell_type": "code",
   "execution_count": null,
   "metadata": {},
   "outputs": [],
   "source": [
    "# If you have more time, you can run a more refined grid search closer to the 'earlier' combinations of the params"
   ]
  },
  {
   "cell_type": "markdown",
   "metadata": {},
   "source": [
    "## <a id = 5> Test Performance"
   ]
  },
  {
   "cell_type": "markdown",
   "metadata": {},
   "source": [
    "### <a id='51'>Data Prepping</a> "
   ]
  },
  {
   "cell_type": "code",
   "execution_count": 22,
   "metadata": {},
   "outputs": [
    {
     "name": "stdout",
     "output_type": "stream",
     "text": [
      "(456478, 30) 1576.0\n"
     ]
    }
   ],
   "source": [
    "# Use the algorithm from Week 2 for the resampling techniques\n",
    "from helper_functions_comprehensive import augment_data_function\n",
    "\n",
    "X_resampled_train, y_resampled_train = augment_data_function(X_train, y_train, \n",
    "                                                             positive_upsampling_ratio=4, negative_upsampling_ratio=2)\n",
    "print(X_resampled_train.shape,sum(y_resampled_train))"
   ]
  },
  {
   "cell_type": "markdown",
   "metadata": {},
   "source": [
    "### <a id='52'>Modelling Workflow </a> "
   ]
  },
  {
   "cell_type": "markdown",
   "metadata": {},
   "source": [
    "Lets use the best params found in the previous analysis"
   ]
  },
  {
   "cell_type": "code",
   "execution_count": 23,
   "metadata": {},
   "outputs": [
    {
     "data": {
      "text/plain": [
       "RandomForestClassifier(bootstrap=True, class_weight=None, criterion='gini',\n",
       "            max_depth=10, max_features='auto', max_leaf_nodes=None,\n",
       "            min_impurity_decrease=0.0, min_impurity_split=None,\n",
       "            min_samples_leaf=10, min_samples_split=20,\n",
       "            min_weight_fraction_leaf=0.0, n_estimators=20, n_jobs=-1,\n",
       "            oob_score=False, random_state=42, verbose=0, warm_start=False)"
      ]
     },
     "execution_count": 23,
     "metadata": {},
     "output_type": "execute_result"
    }
   ],
   "source": [
    "classifier = RandomForestClassifier(**hyperparam_results['best_params'], n_jobs = -1, random_state=42)\n",
    "\n",
    "classifier.fit(X_resampled_train, y_resampled_train)"
   ]
  },
  {
   "cell_type": "code",
   "execution_count": 24,
   "metadata": {},
   "outputs": [
    {
     "name": "stdout",
     "output_type": "stream",
     "text": [
      "Has a Train accuracy of 100.0 % \n",
      "              precision    recall  f1-score   support\n",
      "\n",
      "   Non-Fraud       1.00      1.00      1.00    454902\n",
      "       Fraud       0.98      0.94      0.96      1576\n",
      "\n",
      "   micro avg       1.00      1.00      1.00    456478\n",
      "   macro avg       0.99      0.97      0.98    456478\n",
      "weighted avg       1.00      1.00      1.00    456478\n",
      "\n",
      "The ROC AUC Score on Train set is 0.99\n",
      "Confusion matrix, without normalization\n",
      "[[454875     27]\n",
      " [    92   1484]]\n"
     ]
    },
    {
     "data": {
      "image/png": "[encoded data removed]",
      "text/plain": [
       "<Figure size 720x432 with 1 Axes>"
      ]
     },
     "metadata": {},
     "output_type": "display_data"
    },
    {
     "data": {
      "image/png": "[encoded data removed]",
      "text/plain": [
       "<Figure size 576x288 with 2 Axes>"
      ]
     },
     "metadata": {},
     "output_type": "display_data"
    }
   ],
   "source": [
    "from helper_functions_comprehensive import custom_classification_metrics_function\n",
    "custom_classification_metrics_function(X_resampled_train, y_resampled_train, labels, classifier, data_type='Train')"
   ]
  },
  {
   "cell_type": "code",
   "execution_count": 25,
   "metadata": {},
   "outputs": [
    {
     "name": "stdout",
     "output_type": "stream",
     "text": [
      "Has a Test accuracy of 100.0 % \n",
      "              precision    recall  f1-score   support\n",
      "\n",
      "   Non-Fraud       1.00      1.00      1.00     56864\n",
      "       Fraud       0.86      0.81      0.83        98\n",
      "\n",
      "   micro avg       1.00      1.00      1.00     56962\n",
      "   macro avg       0.93      0.90      0.92     56962\n",
      "weighted avg       1.00      1.00      1.00     56962\n",
      "\n",
      "The ROC AUC Score on Test set is 0.97\n",
      "Confusion matrix, without normalization\n",
      "[[56851    13]\n",
      " [   19    79]]\n"
     ]
    },
    {
     "data": {
      "image/png": "[encoded data removed]",
      "text/plain": [
       "<Figure size 720x432 with 1 Axes>"
      ]
     },
     "metadata": {},
     "output_type": "display_data"
    },
    {
     "data": {
      "image/png": "[encoded data removed]",
      "text/plain": [
       "<Figure size 576x288 with 2 Axes>"
      ]
     },
     "metadata": {},
     "output_type": "display_data"
    }
   ],
   "source": [
    "custom_classification_metrics_function(X_test, y_test, labels, classifier, data_type='Test')"
   ]
  },
  {
   "cell_type": "code",
   "execution_count": 26,
   "metadata": {},
   "outputs": [
    {
     "name": "stdout",
     "output_type": "stream",
     "text": [
      "0.8\n"
     ]
    }
   ],
   "source": [
    "from helper_functions_comprehensive import precision_at_recall_threshold_function\n",
    "\n",
    "predicted_proba = classifier.predict_proba(X_test)[:,1]\n",
    "threshold_precision = precision_at_recall_threshold_function(y_test, predicted_proba, recall_threshold=0.85)\n",
    "\n",
    "# For comparison, lets print the precision at the recall threshold of 85%\n",
    "print(threshold_precision)"
   ]
  },
  {
   "cell_type": "code",
   "execution_count": null,
   "metadata": {},
   "outputs": [],
   "source": []
  },
  {
   "cell_type": "markdown",
   "metadata": {},
   "source": [
    "## <a id=6 >Export Data, Pickled Model and Tuned Params"
   ]
  },
  {
   "cell_type": "code",
   "execution_count": 39,
   "metadata": {},
   "outputs": [],
   "source": [
    "import pickle\n",
    "\n",
    "# Dump the tuned model\n",
    "pickle.dump(classifier, open(tuned_model_name + export_date + '.pkl', 'wb'))\n",
    " \n",
    "# Dump the tuned params \n",
    "pickle.dump(hyperparam_results['best_params'], open(tuned_model_params_name + export_date + '.pkl', 'wb'))\n"
   ]
  },
  {
   "cell_type": "code",
   "execution_count": null,
   "metadata": {},
   "outputs": [],
   "source": []
  },
  {
   "cell_type": "markdown",
   "metadata": {},
   "source": [
    "## <a id=7 > References"
   ]
  },
  {
   "cell_type": "code",
   "execution_count": null,
   "metadata": {},
   "outputs": [],
   "source": []
  },
  {
   "cell_type": "markdown",
   "metadata": {},
   "source": [
    "F1 score vs ROC AUC\n",
    "https://stats.stackexchange.com/questions/210700/how-to-choose-between-roc-auc-and-f1-score\n",
    "\n",
    "https://stackoverflow.com/questions/34698161/how-to-interpret-almost-perfect-accuracy-and-auc-roc-but-zero-f1-score-precisio#34698935\n",
    "\n",
    "https://stackoverflow.com/questions/44172162/f1-score-vs-roc-auc\n"
   ]
  },
  {
   "cell_type": "code",
   "execution_count": null,
   "metadata": {},
   "outputs": [],
   "source": []
  },
  {
   "cell_type": "code",
   "execution_count": null,
   "metadata": {},
   "outputs": [],
   "source": []
  }
 ],
 "metadata": {
  "kernelspec": {
   "display_name": "Python 3",
   "language": "python",
   "name": "python3"
  },
  "language_info": {
   "codemirror_mode": {
    "name": "ipython",
    "version": 3
   },
   "file_extension": ".py",
   "mimetype": "text/x-python",
   "name": "python",
   "nbconvert_exporter": "python",
   "pygments_lexer": "ipython3",
   "version": "3.6.5"
  }
 },
 "nbformat": 4,
 "nbformat_minor": 2
}
