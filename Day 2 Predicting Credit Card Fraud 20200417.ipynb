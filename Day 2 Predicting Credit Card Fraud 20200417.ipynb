{
 "cells": [
  {
   "cell_type": "markdown",
   "metadata": {},
   "source": [
    "<h1><center><font size=\"6\">Predicting Credit Card Fraud</font></center></h1>\n",
    "\n",
    "<h3><center><font size=\"4\"> https://www.kaggle.com/mlg-ulb/creditcardfraud </font></center></h2>"
   ]
  },
  {
   "cell_type": "code",
   "execution_count": 1,
   "metadata": {},
   "outputs": [],
   "source": [
    "# We are going to focus on the data quantity first instead of quality through\n",
    "# Undersampling, Oversampling techniques, Hybrid and custom techniques\n",
    "# Outlier removal on the most important features and retesting it on the Random Forest classifier\n",
    "\n",
    "\n",
    "# All of these are not going to be done in this week unlike the Telco Customer Churn dataset\n",
    "\n",
    "# Data Cleansing using custom Python functions\n",
    "# Identification of bad columns: those with nulls, blanks, constant values or duplicated features\n",
    "# Prefix/Suffix removal\n",
    "# Alphanumeric column splitting\n",
    "# Time variable splitting\n",
    "# Blank space conversion to np.nan"
   ]
  },
  {
   "cell_type": "markdown",
   "metadata": {},
   "source": [
    "<a id=\"top\"></a> <br>\n",
    "## Table of Contents\n",
    "1. [Introduction](#1)\n",
    "\n",
    "1. [Initialization](#2)\n",
    "    1. [Load Packages](#21)\n",
    "    1. [Define Metadata](#22)\n",
    "    \n",
    "1. [Load Data & Validate](#3)\n",
    "    \n",
    "1. [Data Skewness Correction](#4)\n",
    "    1. [Prepping before resampling](#41)\n",
    "        1. [Feature Target and Train Test Split](#411)\n",
    "        1. [Initializing Metrics Capture](#412)\n",
    "        1. [Creating custom Functions to resample & test performance](#413)\n",
    "    1. [Resampling Strategies](#42)\n",
    "        1. [Resampling Method1: Undersampling - Random Undersampling](#421)\n",
    "        1. [Resampling Method2: Oversampling - SMOTE](#422)\n",
    "        1. [Resampling Method3: Hybrid Oversampling and Undersampling using SMOTEENN](#423)\n",
    "        1. [Resampling Method4: Custom function to oversample at different rates](#424)\n",
    "    \n",
    "1. [Data Cleansing](#5)\n",
    "    1. [Selecting top features using Feature Importances](#51)\n",
    "    1. [Isolating the Fraudulent data points](#52)\n",
    "    1. [Visualizing Distributions of top features](#53)\n",
    "    1. [Outlier Definition, Detection & Removal](#54)\n",
    "    1. [Testing Performance Improvement](#55)\n",
    "    \n",
    "1. [Intermediate Data Export](#6)\n",
    "\n",
    "1. [References](#7)"
   ]
  },
  {
   "cell_type": "markdown",
   "metadata": {},
   "source": [
    "## <a id='1'>Introduction</a>  "
   ]
  },
  {
   "cell_type": "markdown",
   "metadata": {},
   "source": [
    "Continuing on from the previous week, the aim here is to improve upon our baseline model performance by focussing on the data. Given that the dataset is already free from null values but heavily skewed, the emphasis will be on improving the quantity of the data."
   ]
  },
  {
   "cell_type": "markdown",
   "metadata": {},
   "source": [
    "## <a id='2'>Initialization</a>  "
   ]
  },
  {
   "cell_type": "markdown",
   "metadata": {},
   "source": [
    "### <a id='21'>Load Packages</a>  "
   ]
  },
  {
   "cell_type": "markdown",
   "metadata": {},
   "source": [
    "\n",
    "\n",
    "Load the minimum number of packages to get started and add more as we go along"
   ]
  },
  {
   "cell_type": "code",
   "execution_count": 2,
   "metadata": {},
   "outputs": [],
   "source": [
    "import pandas as pd \n",
    "import numpy as np\n",
    "\n",
    "import matplotlib.pyplot as plt\n",
    "%matplotlib inline\n",
    "\n",
    "import seaborn as sns\n",
    "\n",
    "import warnings\n",
    "warnings.filterwarnings('ignore')\n",
    "# This is to suppress any deprecation warnings \n",
    "\n",
    "import os\n",
    "\n",
    "import sys\n",
    "sys.path.append(\"/home/paperspace/Kaggle Grandmaster/Udemy Superstar/Classification\") # Adds higher directory to python modules path."
   ]
  },
  {
   "cell_type": "markdown",
   "metadata": {},
   "source": [
    "### <a id='22'>Define Metadata</a>  "
   ]
  },
  {
   "cell_type": "code",
   "execution_count": 3,
   "metadata": {},
   "outputs": [],
   "source": [
    "# Define the name of the target class column here instead of manually typing it out everywhere\n",
    "target_class_name = 'Class'\n",
    "\n",
    "# Fill in the names of what you want to call the 0 and 1 class\n",
    "labels = ['Non-Fraud', 'Fraud']\n",
    "\n",
    "input_file_name = 'creditcard.csv'\n",
    "\n",
    "intermediate_data_path = '../intermediate data/'\n",
    "\n",
    "output_df_file_name = 'week2_cleaned_df_output_' \n",
    "\n",
    "# Enter the date in which this notebook is run\n",
    "export_date = '20200417'"
   ]
  },
  {
   "cell_type": "code",
   "execution_count": 4,
   "metadata": {},
   "outputs": [
    {
     "name": "stdout",
     "output_type": "stream",
     "text": [
      "['creditcard.csv']\n"
     ]
    }
   ],
   "source": [
    "# Check ou tthe names of the files in the input folder that we need to load as dataframe\n",
    "import os\n",
    "print(os.listdir('../input'))\n",
    "# This will list all the files in this folder"
   ]
  },
  {
   "cell_type": "markdown",
   "metadata": {},
   "source": [
    "## <a id='3'>Load Data & Validate</a>  "
   ]
  },
  {
   "cell_type": "code",
   "execution_count": 5,
   "metadata": {},
   "outputs": [],
   "source": [
    "# Lets reload the same data as Week 1 because we deleted the rows containing the blanks from the TotalCharges column"
   ]
  },
  {
   "cell_type": "code",
   "execution_count": 6,
   "metadata": {
    "scrolled": true
   },
   "outputs": [
    {
     "data": {
      "text/html": [
       "<div>\n",
       "<style scoped>\n",
       "    .dataframe tbody tr th:only-of-type {\n",
       "        vertical-align: middle;\n",
       "    }\n",
       "\n",
       "    .dataframe tbody tr th {\n",
       "        vertical-align: top;\n",
       "    }\n",
       "\n",
       "    .dataframe thead th {\n",
       "        text-align: right;\n",
       "    }\n",
       "</style>\n",
       "<table border=\"1\" class=\"dataframe\">\n",
       "  <thead>\n",
       "    <tr style=\"text-align: right;\">\n",
       "      <th></th>\n",
       "      <th>Time</th>\n",
       "      <th>V1</th>\n",
       "      <th>V2</th>\n",
       "      <th>V3</th>\n",
       "      <th>V4</th>\n",
       "      <th>V5</th>\n",
       "      <th>V6</th>\n",
       "      <th>V7</th>\n",
       "      <th>V8</th>\n",
       "      <th>V9</th>\n",
       "      <th>...</th>\n",
       "      <th>V21</th>\n",
       "      <th>V22</th>\n",
       "      <th>V23</th>\n",
       "      <th>V24</th>\n",
       "      <th>V25</th>\n",
       "      <th>V26</th>\n",
       "      <th>V27</th>\n",
       "      <th>V28</th>\n",
       "      <th>Amount</th>\n",
       "      <th>Class</th>\n",
       "    </tr>\n",
       "  </thead>\n",
       "  <tbody>\n",
       "    <tr>\n",
       "      <th>155119</th>\n",
       "      <td>104531.0</td>\n",
       "      <td>-1.110359</td>\n",
       "      <td>0.363634</td>\n",
       "      <td>3.934739</td>\n",
       "      <td>3.180996</td>\n",
       "      <td>0.371422</td>\n",
       "      <td>3.049313</td>\n",
       "      <td>-0.758034</td>\n",
       "      <td>0.905755</td>\n",
       "      <td>1.627241</td>\n",
       "      <td>...</td>\n",
       "      <td>-0.032811</td>\n",
       "      <td>0.621258</td>\n",
       "      <td>-0.324614</td>\n",
       "      <td>-1.136053</td>\n",
       "      <td>0.149110</td>\n",
       "      <td>0.242875</td>\n",
       "      <td>-0.046104</td>\n",
       "      <td>-0.159318</td>\n",
       "      <td>10.76</td>\n",
       "      <td>0</td>\n",
       "    </tr>\n",
       "    <tr>\n",
       "      <th>113207</th>\n",
       "      <td>72981.0</td>\n",
       "      <td>-0.651577</td>\n",
       "      <td>0.581663</td>\n",
       "      <td>1.763802</td>\n",
       "      <td>2.021465</td>\n",
       "      <td>1.886976</td>\n",
       "      <td>5.347946</td>\n",
       "      <td>-0.712014</td>\n",
       "      <td>1.106716</td>\n",
       "      <td>-0.076032</td>\n",
       "      <td>...</td>\n",
       "      <td>-0.153941</td>\n",
       "      <td>-0.131415</td>\n",
       "      <td>-0.327210</td>\n",
       "      <td>1.037679</td>\n",
       "      <td>0.209365</td>\n",
       "      <td>0.280537</td>\n",
       "      <td>-0.285941</td>\n",
       "      <td>-0.111607</td>\n",
       "      <td>13.37</td>\n",
       "      <td>0</td>\n",
       "    </tr>\n",
       "    <tr>\n",
       "      <th>224685</th>\n",
       "      <td>143916.0</td>\n",
       "      <td>-4.797560</td>\n",
       "      <td>1.359863</td>\n",
       "      <td>-1.726716</td>\n",
       "      <td>-0.986007</td>\n",
       "      <td>0.663195</td>\n",
       "      <td>-1.209129</td>\n",
       "      <td>0.749095</td>\n",
       "      <td>0.194690</td>\n",
       "      <td>1.528597</td>\n",
       "      <td>...</td>\n",
       "      <td>-0.971559</td>\n",
       "      <td>-0.851291</td>\n",
       "      <td>0.770106</td>\n",
       "      <td>0.484050</td>\n",
       "      <td>0.381827</td>\n",
       "      <td>0.047493</td>\n",
       "      <td>-0.235420</td>\n",
       "      <td>-0.374162</td>\n",
       "      <td>9.82</td>\n",
       "      <td>0</td>\n",
       "    </tr>\n",
       "    <tr>\n",
       "      <th>273377</th>\n",
       "      <td>165573.0</td>\n",
       "      <td>2.132292</td>\n",
       "      <td>-0.006435</td>\n",
       "      <td>-1.479959</td>\n",
       "      <td>0.163499</td>\n",
       "      <td>0.456853</td>\n",
       "      <td>-0.592649</td>\n",
       "      <td>0.238412</td>\n",
       "      <td>-0.330226</td>\n",
       "      <td>0.449283</td>\n",
       "      <td>...</td>\n",
       "      <td>-0.343957</td>\n",
       "      <td>-0.803315</td>\n",
       "      <td>0.196953</td>\n",
       "      <td>-0.974046</td>\n",
       "      <td>-0.123945</td>\n",
       "      <td>0.256560</td>\n",
       "      <td>-0.065440</td>\n",
       "      <td>-0.067802</td>\n",
       "      <td>3.87</td>\n",
       "      <td>0</td>\n",
       "    </tr>\n",
       "    <tr>\n",
       "      <th>48177</th>\n",
       "      <td>43525.0</td>\n",
       "      <td>-1.199709</td>\n",
       "      <td>1.077646</td>\n",
       "      <td>-0.147173</td>\n",
       "      <td>0.051676</td>\n",
       "      <td>-1.806134</td>\n",
       "      <td>0.511443</td>\n",
       "      <td>1.063080</td>\n",
       "      <td>0.713482</td>\n",
       "      <td>-0.810670</td>\n",
       "      <td>...</td>\n",
       "      <td>0.002417</td>\n",
       "      <td>-0.155454</td>\n",
       "      <td>0.308146</td>\n",
       "      <td>0.006933</td>\n",
       "      <td>-0.555149</td>\n",
       "      <td>0.070405</td>\n",
       "      <td>-0.299163</td>\n",
       "      <td>-0.217162</td>\n",
       "      <td>301.83</td>\n",
       "      <td>0</td>\n",
       "    </tr>\n",
       "  </tbody>\n",
       "</table>\n",
       "<p>5 rows × 31 columns</p>\n",
       "</div>"
      ],
      "text/plain": [
       "            Time        V1        V2        V3        V4        V5        V6  \\\n",
       "155119  104531.0 -1.110359  0.363634  3.934739  3.180996  0.371422  3.049313   \n",
       "113207   72981.0 -0.651577  0.581663  1.763802  2.021465  1.886976  5.347946   \n",
       "224685  143916.0 -4.797560  1.359863 -1.726716 -0.986007  0.663195 -1.209129   \n",
       "273377  165573.0  2.132292 -0.006435 -1.479959  0.163499  0.456853 -0.592649   \n",
       "48177    43525.0 -1.199709  1.077646 -0.147173  0.051676 -1.806134  0.511443   \n",
       "\n",
       "              V7        V8        V9  ...         V21       V22       V23  \\\n",
       "155119 -0.758034  0.905755  1.627241  ...   -0.032811  0.621258 -0.324614   \n",
       "113207 -0.712014  1.106716 -0.076032  ...   -0.153941 -0.131415 -0.327210   \n",
       "224685  0.749095  0.194690  1.528597  ...   -0.971559 -0.851291  0.770106   \n",
       "273377  0.238412 -0.330226  0.449283  ...   -0.343957 -0.803315  0.196953   \n",
       "48177   1.063080  0.713482 -0.810670  ...    0.002417 -0.155454  0.308146   \n",
       "\n",
       "             V24       V25       V26       V27       V28  Amount  Class  \n",
       "155119 -1.136053  0.149110  0.242875 -0.046104 -0.159318   10.76      0  \n",
       "113207  1.037679  0.209365  0.280537 -0.285941 -0.111607   13.37      0  \n",
       "224685  0.484050  0.381827  0.047493 -0.235420 -0.374162    9.82      0  \n",
       "273377 -0.974046 -0.123945  0.256560 -0.065440 -0.067802    3.87      0  \n",
       "48177   0.006933 -0.555149  0.070405 -0.299163 -0.217162  301.83      0  \n",
       "\n",
       "[5 rows x 31 columns]"
      ]
     },
     "execution_count": 6,
     "metadata": {},
     "output_type": "execute_result"
    }
   ],
   "source": [
    "df = pd.read_csv('../input/' + input_file_name)\n",
    "df.sample(5)"
   ]
  },
  {
   "cell_type": "markdown",
   "metadata": {},
   "source": [
    "\n",
    "Lets check the head & tail to make sure there is nothing going on"
   ]
  },
  {
   "cell_type": "code",
   "execution_count": 7,
   "metadata": {},
   "outputs": [
    {
     "data": {
      "text/html": [
       "<div>\n",
       "<style scoped>\n",
       "    .dataframe tbody tr th:only-of-type {\n",
       "        vertical-align: middle;\n",
       "    }\n",
       "\n",
       "    .dataframe tbody tr th {\n",
       "        vertical-align: top;\n",
       "    }\n",
       "\n",
       "    .dataframe thead th {\n",
       "        text-align: right;\n",
       "    }\n",
       "</style>\n",
       "<table border=\"1\" class=\"dataframe\">\n",
       "  <thead>\n",
       "    <tr style=\"text-align: right;\">\n",
       "      <th></th>\n",
       "      <th>Time</th>\n",
       "      <th>V1</th>\n",
       "      <th>V2</th>\n",
       "      <th>V3</th>\n",
       "      <th>V4</th>\n",
       "      <th>V5</th>\n",
       "      <th>V6</th>\n",
       "      <th>V7</th>\n",
       "      <th>V8</th>\n",
       "      <th>V9</th>\n",
       "      <th>...</th>\n",
       "      <th>V21</th>\n",
       "      <th>V22</th>\n",
       "      <th>V23</th>\n",
       "      <th>V24</th>\n",
       "      <th>V25</th>\n",
       "      <th>V26</th>\n",
       "      <th>V27</th>\n",
       "      <th>V28</th>\n",
       "      <th>Amount</th>\n",
       "      <th>Class</th>\n",
       "    </tr>\n",
       "  </thead>\n",
       "  <tbody>\n",
       "    <tr>\n",
       "      <th>0</th>\n",
       "      <td>0.0</td>\n",
       "      <td>-1.359807</td>\n",
       "      <td>-0.072781</td>\n",
       "      <td>2.536347</td>\n",
       "      <td>1.378155</td>\n",
       "      <td>-0.338321</td>\n",
       "      <td>0.462388</td>\n",
       "      <td>0.239599</td>\n",
       "      <td>0.098698</td>\n",
       "      <td>0.363787</td>\n",
       "      <td>...</td>\n",
       "      <td>-0.018307</td>\n",
       "      <td>0.277838</td>\n",
       "      <td>-0.110474</td>\n",
       "      <td>0.066928</td>\n",
       "      <td>0.128539</td>\n",
       "      <td>-0.189115</td>\n",
       "      <td>0.133558</td>\n",
       "      <td>-0.021053</td>\n",
       "      <td>149.62</td>\n",
       "      <td>0</td>\n",
       "    </tr>\n",
       "    <tr>\n",
       "      <th>1</th>\n",
       "      <td>0.0</td>\n",
       "      <td>1.191857</td>\n",
       "      <td>0.266151</td>\n",
       "      <td>0.166480</td>\n",
       "      <td>0.448154</td>\n",
       "      <td>0.060018</td>\n",
       "      <td>-0.082361</td>\n",
       "      <td>-0.078803</td>\n",
       "      <td>0.085102</td>\n",
       "      <td>-0.255425</td>\n",
       "      <td>...</td>\n",
       "      <td>-0.225775</td>\n",
       "      <td>-0.638672</td>\n",
       "      <td>0.101288</td>\n",
       "      <td>-0.339846</td>\n",
       "      <td>0.167170</td>\n",
       "      <td>0.125895</td>\n",
       "      <td>-0.008983</td>\n",
       "      <td>0.014724</td>\n",
       "      <td>2.69</td>\n",
       "      <td>0</td>\n",
       "    </tr>\n",
       "    <tr>\n",
       "      <th>2</th>\n",
       "      <td>1.0</td>\n",
       "      <td>-1.358354</td>\n",
       "      <td>-1.340163</td>\n",
       "      <td>1.773209</td>\n",
       "      <td>0.379780</td>\n",
       "      <td>-0.503198</td>\n",
       "      <td>1.800499</td>\n",
       "      <td>0.791461</td>\n",
       "      <td>0.247676</td>\n",
       "      <td>-1.514654</td>\n",
       "      <td>...</td>\n",
       "      <td>0.247998</td>\n",
       "      <td>0.771679</td>\n",
       "      <td>0.909412</td>\n",
       "      <td>-0.689281</td>\n",
       "      <td>-0.327642</td>\n",
       "      <td>-0.139097</td>\n",
       "      <td>-0.055353</td>\n",
       "      <td>-0.059752</td>\n",
       "      <td>378.66</td>\n",
       "      <td>0</td>\n",
       "    </tr>\n",
       "  </tbody>\n",
       "</table>\n",
       "<p>3 rows × 31 columns</p>\n",
       "</div>"
      ],
      "text/plain": [
       "   Time        V1        V2        V3        V4        V5        V6        V7  \\\n",
       "0   0.0 -1.359807 -0.072781  2.536347  1.378155 -0.338321  0.462388  0.239599   \n",
       "1   0.0  1.191857  0.266151  0.166480  0.448154  0.060018 -0.082361 -0.078803   \n",
       "2   1.0 -1.358354 -1.340163  1.773209  0.379780 -0.503198  1.800499  0.791461   \n",
       "\n",
       "         V8        V9  ...         V21       V22       V23       V24  \\\n",
       "0  0.098698  0.363787  ...   -0.018307  0.277838 -0.110474  0.066928   \n",
       "1  0.085102 -0.255425  ...   -0.225775 -0.638672  0.101288 -0.339846   \n",
       "2  0.247676 -1.514654  ...    0.247998  0.771679  0.909412 -0.689281   \n",
       "\n",
       "        V25       V26       V27       V28  Amount  Class  \n",
       "0  0.128539 -0.189115  0.133558 -0.021053  149.62      0  \n",
       "1  0.167170  0.125895 -0.008983  0.014724    2.69      0  \n",
       "2 -0.327642 -0.139097 -0.055353 -0.059752  378.66      0  \n",
       "\n",
       "[3 rows x 31 columns]"
      ]
     },
     "execution_count": 7,
     "metadata": {},
     "output_type": "execute_result"
    }
   ],
   "source": [
    "df.head(3)\n",
    "# What you are checking here is whether there are some unwanted headers from teh input file that \n",
    "# can corrupt our data\n",
    "# If found, either open the file and manually delete it or only load the relevant columns"
   ]
  },
  {
   "cell_type": "code",
   "execution_count": 8,
   "metadata": {},
   "outputs": [
    {
     "data": {
      "text/html": [
       "<div>\n",
       "<style scoped>\n",
       "    .dataframe tbody tr th:only-of-type {\n",
       "        vertical-align: middle;\n",
       "    }\n",
       "\n",
       "    .dataframe tbody tr th {\n",
       "        vertical-align: top;\n",
       "    }\n",
       "\n",
       "    .dataframe thead th {\n",
       "        text-align: right;\n",
       "    }\n",
       "</style>\n",
       "<table border=\"1\" class=\"dataframe\">\n",
       "  <thead>\n",
       "    <tr style=\"text-align: right;\">\n",
       "      <th></th>\n",
       "      <th>Time</th>\n",
       "      <th>V1</th>\n",
       "      <th>V2</th>\n",
       "      <th>V3</th>\n",
       "      <th>V4</th>\n",
       "      <th>V5</th>\n",
       "      <th>V6</th>\n",
       "      <th>V7</th>\n",
       "      <th>V8</th>\n",
       "      <th>V9</th>\n",
       "      <th>...</th>\n",
       "      <th>V21</th>\n",
       "      <th>V22</th>\n",
       "      <th>V23</th>\n",
       "      <th>V24</th>\n",
       "      <th>V25</th>\n",
       "      <th>V26</th>\n",
       "      <th>V27</th>\n",
       "      <th>V28</th>\n",
       "      <th>Amount</th>\n",
       "      <th>Class</th>\n",
       "    </tr>\n",
       "  </thead>\n",
       "  <tbody>\n",
       "    <tr>\n",
       "      <th>284804</th>\n",
       "      <td>172788.0</td>\n",
       "      <td>1.919565</td>\n",
       "      <td>-0.301254</td>\n",
       "      <td>-3.249640</td>\n",
       "      <td>-0.557828</td>\n",
       "      <td>2.630515</td>\n",
       "      <td>3.031260</td>\n",
       "      <td>-0.296827</td>\n",
       "      <td>0.708417</td>\n",
       "      <td>0.432454</td>\n",
       "      <td>...</td>\n",
       "      <td>0.232045</td>\n",
       "      <td>0.578229</td>\n",
       "      <td>-0.037501</td>\n",
       "      <td>0.640134</td>\n",
       "      <td>0.265745</td>\n",
       "      <td>-0.087371</td>\n",
       "      <td>0.004455</td>\n",
       "      <td>-0.026561</td>\n",
       "      <td>67.88</td>\n",
       "      <td>0</td>\n",
       "    </tr>\n",
       "    <tr>\n",
       "      <th>284805</th>\n",
       "      <td>172788.0</td>\n",
       "      <td>-0.240440</td>\n",
       "      <td>0.530483</td>\n",
       "      <td>0.702510</td>\n",
       "      <td>0.689799</td>\n",
       "      <td>-0.377961</td>\n",
       "      <td>0.623708</td>\n",
       "      <td>-0.686180</td>\n",
       "      <td>0.679145</td>\n",
       "      <td>0.392087</td>\n",
       "      <td>...</td>\n",
       "      <td>0.265245</td>\n",
       "      <td>0.800049</td>\n",
       "      <td>-0.163298</td>\n",
       "      <td>0.123205</td>\n",
       "      <td>-0.569159</td>\n",
       "      <td>0.546668</td>\n",
       "      <td>0.108821</td>\n",
       "      <td>0.104533</td>\n",
       "      <td>10.00</td>\n",
       "      <td>0</td>\n",
       "    </tr>\n",
       "    <tr>\n",
       "      <th>284806</th>\n",
       "      <td>172792.0</td>\n",
       "      <td>-0.533413</td>\n",
       "      <td>-0.189733</td>\n",
       "      <td>0.703337</td>\n",
       "      <td>-0.506271</td>\n",
       "      <td>-0.012546</td>\n",
       "      <td>-0.649617</td>\n",
       "      <td>1.577006</td>\n",
       "      <td>-0.414650</td>\n",
       "      <td>0.486180</td>\n",
       "      <td>...</td>\n",
       "      <td>0.261057</td>\n",
       "      <td>0.643078</td>\n",
       "      <td>0.376777</td>\n",
       "      <td>0.008797</td>\n",
       "      <td>-0.473649</td>\n",
       "      <td>-0.818267</td>\n",
       "      <td>-0.002415</td>\n",
       "      <td>0.013649</td>\n",
       "      <td>217.00</td>\n",
       "      <td>0</td>\n",
       "    </tr>\n",
       "  </tbody>\n",
       "</table>\n",
       "<p>3 rows × 31 columns</p>\n",
       "</div>"
      ],
      "text/plain": [
       "            Time        V1        V2        V3        V4        V5        V6  \\\n",
       "284804  172788.0  1.919565 -0.301254 -3.249640 -0.557828  2.630515  3.031260   \n",
       "284805  172788.0 -0.240440  0.530483  0.702510  0.689799 -0.377961  0.623708   \n",
       "284806  172792.0 -0.533413 -0.189733  0.703337 -0.506271 -0.012546 -0.649617   \n",
       "\n",
       "              V7        V8        V9  ...         V21       V22       V23  \\\n",
       "284804 -0.296827  0.708417  0.432454  ...    0.232045  0.578229 -0.037501   \n",
       "284805 -0.686180  0.679145  0.392087  ...    0.265245  0.800049 -0.163298   \n",
       "284806  1.577006 -0.414650  0.486180  ...    0.261057  0.643078  0.376777   \n",
       "\n",
       "             V24       V25       V26       V27       V28  Amount  Class  \n",
       "284804  0.640134  0.265745 -0.087371  0.004455 -0.026561   67.88      0  \n",
       "284805  0.123205 -0.569159  0.546668  0.108821  0.104533   10.00      0  \n",
       "284806  0.008797 -0.473649 -0.818267 -0.002415  0.013649  217.00      0  \n",
       "\n",
       "[3 rows x 31 columns]"
      ]
     },
     "execution_count": 8,
     "metadata": {},
     "output_type": "execute_result"
    }
   ],
   "source": [
    "df.tail(3)\n",
    "# similar logic here"
   ]
  },
  {
   "cell_type": "markdown",
   "metadata": {},
   "source": [
    "No trouble with loading the data. Both the head and tail are clean"
   ]
  },
  {
   "cell_type": "markdown",
   "metadata": {},
   "source": [
    "Because the data is clean and doesnt have any nulls, we can go ahead and start correcting for the skewness. We are going to hold off on the outlier detection and removal until after the data augmentation"
   ]
  },
  {
   "cell_type": "markdown",
   "metadata": {},
   "source": [
    "## <a id = 4> Data Skewness Correction"
   ]
  },
  {
   "cell_type": "markdown",
   "metadata": {},
   "source": [
    "Data always beats algorithm. \n",
    "\n",
    "Given that our dataset is heavily skewed in favor of the negative class (ie non-fraud),\n",
    "any technique that brings the ratio closer to 50:50 should theoretically improve the performance.\n",
    "\n",
    "The theoretical reason for favoring the 50:50 ratio is that the results will be no worse than what was obtained with natural class distributions.\n",
    "\n",
    "https://www.researchgate.net/publication/2364670_The_Effect_of_Class_Distribution_on_Classifier_Learning_An_Empirical_Study"
   ]
  },
  {
   "cell_type": "markdown",
   "metadata": {},
   "source": [
    "Broadly there are 2 approaches to data skewness correction: undersampling and oversampling\n",
    "    \n",
    "In Undersampling, we throw away the negative class until the remaining data is balanced.\n",
    "\n",
    "In Oversampling, we sample  repeatedly the positive class until the synthetic data is balanced\n",
    "\n",
    "There is also the hybrid approach where we sample both classes simultaneously until the minority class reaches a threshold and I will also introduce a custom function to generate samples.\n",
    "\n",
    "But first, lets do some groundwork ...."
   ]
  },
  {
   "cell_type": "markdown",
   "metadata": {},
   "source": [
    "### <a id = 41> Prepping before resampling"
   ]
  },
  {
   "cell_type": "markdown",
   "metadata": {},
   "source": [
    "### <a id = 411> Feature Target and Train Test Split"
   ]
  },
  {
   "cell_type": "markdown",
   "metadata": {},
   "source": [
    "\n",
    "Why should we do the train test split here rather than just before the modelling?\n",
    "\n",
    "Because the data augmentation techniques should leave the Test set alone and only augment the train set. The Test set should be a valid representation of how the unseen unlabelled production data will occur during which time we wont have the luxury of correcting the imbalance\n"
   ]
  },
  {
   "cell_type": "code",
   "execution_count": 9,
   "metadata": {},
   "outputs": [
    {
     "name": "stdout",
     "output_type": "stream",
     "text": [
      "(227845, 30) (56962, 30) 394 98\n"
     ]
    }
   ],
   "source": [
    "# Feature Target split\n",
    "X = df.drop(target_class_name, axis=1)\n",
    "y = df[target_class_name]\n",
    "\n",
    "# split into train and test set and make sure to use the stratify = y\n",
    "from sklearn.model_selection import train_test_split\n",
    "X_train, X_test, y_train, y_test = train_test_split(X, y, test_size=0.2, stratify=y, random_state=42)\n",
    "\n",
    "# These are the original dimensions and the class distributions\n",
    "print(X_train.shape, X_test.shape, sum(y_train), sum(y_test))\n",
    "\n",
    "# Notice how there are 98 Fraud samples in the Test set "
   ]
  },
  {
   "cell_type": "markdown",
   "metadata": {},
   "source": [
    "### <a id = 412> Initializing Metrics Capture"
   ]
  },
  {
   "cell_type": "markdown",
   "metadata": {},
   "source": [
    "Let me initialize a dataframe to hold relevant metrics for each of the augmentation techniques we are going to try"
   ]
  },
  {
   "cell_type": "code",
   "execution_count": 12,
   "metadata": {},
   "outputs": [
    {
     "data": {
      "text/html": [
       "<div>\n",
       "<style scoped>\n",
       "    .dataframe tbody tr th:only-of-type {\n",
       "        vertical-align: middle;\n",
       "    }\n",
       "\n",
       "    .dataframe tbody tr th {\n",
       "        vertical-align: top;\n",
       "    }\n",
       "\n",
       "    .dataframe thead th {\n",
       "        text-align: right;\n",
       "    }\n",
       "</style>\n",
       "<table border=\"1\" class=\"dataframe\">\n",
       "  <thead>\n",
       "    <tr style=\"text-align: right;\">\n",
       "      <th></th>\n",
       "      <th>Pos_Precision</th>\n",
       "      <th>Pos_Recall</th>\n",
       "      <th>Pos_F1</th>\n",
       "      <th>ROC AUC</th>\n",
       "      <th>FN</th>\n",
       "      <th>TP</th>\n",
       "      <th>FP</th>\n",
       "      <th>TN</th>\n",
       "    </tr>\n",
       "  </thead>\n",
       "  <tbody>\n",
       "    <tr>\n",
       "      <th>Undersampling</th>\n",
       "      <td>NaN</td>\n",
       "      <td>NaN</td>\n",
       "      <td>NaN</td>\n",
       "      <td>NaN</td>\n",
       "      <td>NaN</td>\n",
       "      <td>NaN</td>\n",
       "      <td>NaN</td>\n",
       "      <td>NaN</td>\n",
       "    </tr>\n",
       "    <tr>\n",
       "      <th>Oversampling</th>\n",
       "      <td>NaN</td>\n",
       "      <td>NaN</td>\n",
       "      <td>NaN</td>\n",
       "      <td>NaN</td>\n",
       "      <td>NaN</td>\n",
       "      <td>NaN</td>\n",
       "      <td>NaN</td>\n",
       "      <td>NaN</td>\n",
       "    </tr>\n",
       "    <tr>\n",
       "      <th>Hybrid</th>\n",
       "      <td>NaN</td>\n",
       "      <td>NaN</td>\n",
       "      <td>NaN</td>\n",
       "      <td>NaN</td>\n",
       "      <td>NaN</td>\n",
       "      <td>NaN</td>\n",
       "      <td>NaN</td>\n",
       "      <td>NaN</td>\n",
       "    </tr>\n",
       "    <tr>\n",
       "      <th>Custom</th>\n",
       "      <td>NaN</td>\n",
       "      <td>NaN</td>\n",
       "      <td>NaN</td>\n",
       "      <td>NaN</td>\n",
       "      <td>NaN</td>\n",
       "      <td>NaN</td>\n",
       "      <td>NaN</td>\n",
       "      <td>NaN</td>\n",
       "    </tr>\n",
       "  </tbody>\n",
       "</table>\n",
       "</div>"
      ],
      "text/plain": [
       "              Pos_Precision Pos_Recall Pos_F1 ROC AUC   FN   TP   FP   TN\n",
       "Undersampling           NaN        NaN    NaN     NaN  NaN  NaN  NaN  NaN\n",
       "Oversampling            NaN        NaN    NaN     NaN  NaN  NaN  NaN  NaN\n",
       "Hybrid                  NaN        NaN    NaN     NaN  NaN  NaN  NaN  NaN\n",
       "Custom                  NaN        NaN    NaN     NaN  NaN  NaN  NaN  NaN"
      ]
     },
     "execution_count": 12,
     "metadata": {},
     "output_type": "execute_result"
    }
   ],
   "source": [
    "sampling_strategy_metrics_df = pd.DataFrame(columns = ['Pos_Precision','Pos_Recall','Pos_F1','ROC AUC','FN','TP','FP','TN'],\n",
    "                                           index = ['Undersampling','Oversampling','Hybrid','Custom'])\n",
    "sampling_strategy_metrics_df\n",
    "\n",
    "# Depending on the business problem, one or more of these metrics will be more important than the others.\n",
    "# Here lets assume that the Recall is what we are interested in as long as the Precision is not too far off\n",
    "# Unlike balanced datasets, the ROC AUC is a poor indicator here because the algorithm can get 'good' scores by just predicting\n",
    "# everything as the majority class.\n",
    "\n",
    "# Note that I am only interested in the Precision, Recall and F1 for the positive class which is why the prefix exists"
   ]
  },
  {
   "cell_type": "markdown",
   "metadata": {},
   "source": [
    "### <a id = 413> Creating Test functions"
   ]
  },
  {
   "cell_type": "markdown",
   "metadata": {},
   "source": [
    "Given that there are 4 techniques that I want to compare, its better to have a custom function that to avoid repeating code"
   ]
  },
  {
   "cell_type": "code",
   "execution_count": 11,
   "metadata": {},
   "outputs": [],
   "source": [
    "# 11th of April 2020: created a wrapper around the usual model fitting and displaying classification metrics\n",
    "def test_rf_performance_function(X_train, y_train, X_test, y_test, labels, recall_threshold=0.85):\n",
    "    \n",
    "    '''\n",
    "    Args: The train and test data; labels to allow a human readable graph\n",
    "    \n",
    "    Logic: Trains a random forest classifier with default params and outputs the classification report & confusion matrix\n",
    "    \n",
    "    Displays: The confusion matrix and classification report\n",
    "    \n",
    "    Returns: the metrics_dict containing the necessary binary metrics\n",
    "    '''\n",
    "\n",
    "    from sklearn.ensemble import RandomForestClassifier\n",
    "\n",
    "    # Initialize a classifier object with default params\n",
    "    classifier = RandomForestClassifier(random_state=42)\n",
    "    classifier.fit(X_train, y_train)\n",
    "\n",
    "    # Display the classification report on the Test data\n",
    "    from helper_functions_comprehensive import custom_classification_metrics_function\n",
    "    metrics_dict = custom_classification_metrics_function(\n",
    "        X_test, y_test, labels, classifier, data_type='Test', output_metrics = True) \n",
    "    \n",
    "    ### Added on the 17th of April 2020\n",
    "    from helper_functions_comprehensive import precision_at_recall_threshold\n",
    "    from helper_functions_comprehensive import classification_report, confusion_matrix, plot_confusion_matrix_function\n",
    "    \n",
    "\n",
    "    predicted_proba = classifier.predict_proba(X_test)[:,1]\n",
    "    threshold_precision = precision_at_recall_threshold(y_test, predicted_proba, recall_threshold=0.85)\n",
    "    \n",
    "    return metrics_dict, threshold_precision\n",
    "# test_rf_performance_function(X_train, y_train, X_test, y_test, labels, output_metrics = True)"
   ]
  },
  {
   "cell_type": "markdown",
   "metadata": {},
   "source": [
    "I am going to create a wrapper around my metrics function to output the resampled train sets and test metrics"
   ]
  },
  {
   "cell_type": "code",
   "execution_count": 13,
   "metadata": {},
   "outputs": [],
   "source": [
    "# I created this function so as not to have too many intermediate variables flying around\n",
    "def resample_and_test_performance_function(ResampleMethod, X_train, y_train, X_test, y_test, labels):\n",
    "    '''\n",
    "    Args: imblearn method that has the fit_sample method to generate samples;\n",
    "    the train, test data and the labels\n",
    "    \n",
    "    Logic: The imblearn method is called to generate the synthetic data\n",
    "    \n",
    "    Returns: the metrics dictionary which is actually generated by a separate function \n",
    "    \n",
    "    '''\n",
    "    \n",
    "    # Generate the resampled data using one of the imblearn methods\n",
    "    X_resampled_train, y_resampled_train = ResampleMethod.fit_sample(X_train, y_train)\n",
    "    \n",
    "    print('The size of the resampled train sets are as follows:')\n",
    "    print(X_resampled_train.shape,sum(y_resampled_train))\n",
    "    \n",
    "    # call the function to generate the plots and return the metrics\n",
    "    metrics_dict, threshold_precision  = test_rf_performance_function(\n",
    "                            X_resampled_train, y_resampled_train, X_test, y_test, labels)\n",
    "    \n",
    "    return X_resampled_train, y_resampled_train, metrics_dict, threshold_precision\n",
    "\n",
    "# This is how one would call the function\n",
    "# _,__, sampling_strategy_metrics_df.loc['Undersampling'] = resample_and_test_function(\n",
    "#                                                           RandomUnderSampler(), X_train, y_train, X_test, y_test, labels)"
   ]
  },
  {
   "cell_type": "markdown",
   "metadata": {},
   "source": [
    "### <a id = 42> Resampling Strategies"
   ]
  },
  {
   "cell_type": "markdown",
   "metadata": {},
   "source": [
    "There are many techniques for undersampling, oversampling and the hybrid approach. One popular API is imblearn available at\n",
    "https://imbalanced-learn.readthedocs.io/en/stable/api.html\n",
    "\n",
    "In this notebook, I am going to pick one implementation for each approach and compare results. \n",
    "The reader is encouraged to try all"
   ]
  },
  {
   "cell_type": "markdown",
   "metadata": {},
   "source": [
    "### <a id = 411> Resampling Method1: Undersampling - RandomUnderSampler"
   ]
  },
  {
   "cell_type": "markdown",
   "metadata": {},
   "source": [
    "In the first implementation, I am going to downsample my majority (negative) class using the RandomUnderSampler method as the name suggests, the algorithm randomly selects the minority class until the class ratio is the same\n",
    "\n",
    "The reader is encouraged to select more sophisticated techniques available in imblearn API documentation"
   ]
  },
  {
   "cell_type": "code",
   "execution_count": 14,
   "metadata": {},
   "outputs": [
    {
     "name": "stdout",
     "output_type": "stream",
     "text": [
      "The size of the resampled train sets are as follows:\n",
      "(788, 30) 394\n",
      "Has a Test accuracy of 96.0 % \n",
      "              precision    recall  f1-score   support\n",
      "\n",
      "   Non-Fraud       1.00      0.96      0.98     56864\n",
      "       Fraud       0.04      0.90      0.08        98\n",
      "\n",
      "   micro avg       0.96      0.96      0.96     56962\n",
      "   macro avg       0.52      0.93      0.53     56962\n",
      "weighted avg       1.00      0.96      0.98     56962\n",
      "\n",
      "The ROC AUC Score on Test set is 0.97\n",
      "Confusion matrix, without normalization\n",
      "[[54808  2056]\n",
      " [   10    88]]\n"
     ]
    },
    {
     "data": {
      "image/png": "[encoded data removed]",
      "text/plain": [
       "<Figure size 720x432 with 1 Axes>"
      ]
     },
     "metadata": {},
     "output_type": "display_data"
    },
    {
     "data": {
      "image/png": "[encoded data removed]",
      "text/plain": [
       "<Figure size 576x288 with 2 Axes>"
      ]
     },
     "metadata": {},
     "output_type": "display_data"
    }
   ],
   "source": [
    "from imblearn.under_sampling import RandomUnderSampler\n",
    "\n",
    "_,__, sampling_strategy_metrics_df.loc['Undersampling'], threshold_precision = resample_and_test_performance_function(\n",
    "                                                RandomUnderSampler(random_state=42), X_train, y_train, X_test, y_test, labels)\n",
    "\n",
    "# Notice how the size of the downsampled dataset is exactly twice as large as the number of minority positive class"
   ]
  },
  {
   "cell_type": "code",
   "execution_count": 15,
   "metadata": {},
   "outputs": [
    {
     "data": {
      "text/html": [
       "<div>\n",
       "<style scoped>\n",
       "    .dataframe tbody tr th:only-of-type {\n",
       "        vertical-align: middle;\n",
       "    }\n",
       "\n",
       "    .dataframe tbody tr th {\n",
       "        vertical-align: top;\n",
       "    }\n",
       "\n",
       "    .dataframe thead th {\n",
       "        text-align: right;\n",
       "    }\n",
       "</style>\n",
       "<table border=\"1\" class=\"dataframe\">\n",
       "  <thead>\n",
       "    <tr style=\"text-align: right;\">\n",
       "      <th></th>\n",
       "      <th>Pos_Precision</th>\n",
       "      <th>Pos_Recall</th>\n",
       "      <th>Pos_F1</th>\n",
       "      <th>ROC AUC</th>\n",
       "      <th>FN</th>\n",
       "      <th>TP</th>\n",
       "      <th>FP</th>\n",
       "      <th>TN</th>\n",
       "    </tr>\n",
       "  </thead>\n",
       "  <tbody>\n",
       "    <tr>\n",
       "      <th>Undersampling</th>\n",
       "      <td>0.0410448</td>\n",
       "      <td>0.897959</td>\n",
       "      <td>0.0785013</td>\n",
       "      <td>0.97</td>\n",
       "      <td>10</td>\n",
       "      <td>88</td>\n",
       "      <td>2056</td>\n",
       "      <td>54808</td>\n",
       "    </tr>\n",
       "    <tr>\n",
       "      <th>Oversampling</th>\n",
       "      <td>NaN</td>\n",
       "      <td>NaN</td>\n",
       "      <td>NaN</td>\n",
       "      <td>NaN</td>\n",
       "      <td>NaN</td>\n",
       "      <td>NaN</td>\n",
       "      <td>NaN</td>\n",
       "      <td>NaN</td>\n",
       "    </tr>\n",
       "    <tr>\n",
       "      <th>Hybrid</th>\n",
       "      <td>NaN</td>\n",
       "      <td>NaN</td>\n",
       "      <td>NaN</td>\n",
       "      <td>NaN</td>\n",
       "      <td>NaN</td>\n",
       "      <td>NaN</td>\n",
       "      <td>NaN</td>\n",
       "      <td>NaN</td>\n",
       "    </tr>\n",
       "    <tr>\n",
       "      <th>Custom</th>\n",
       "      <td>NaN</td>\n",
       "      <td>NaN</td>\n",
       "      <td>NaN</td>\n",
       "      <td>NaN</td>\n",
       "      <td>NaN</td>\n",
       "      <td>NaN</td>\n",
       "      <td>NaN</td>\n",
       "      <td>NaN</td>\n",
       "    </tr>\n",
       "  </tbody>\n",
       "</table>\n",
       "</div>"
      ],
      "text/plain": [
       "              Pos_Precision Pos_Recall     Pos_F1 ROC AUC   FN   TP    FP  \\\n",
       "Undersampling     0.0410448   0.897959  0.0785013    0.97   10   88  2056   \n",
       "Oversampling            NaN        NaN        NaN     NaN  NaN  NaN   NaN   \n",
       "Hybrid                  NaN        NaN        NaN     NaN  NaN  NaN   NaN   \n",
       "Custom                  NaN        NaN        NaN     NaN  NaN  NaN   NaN   \n",
       "\n",
       "                  TN  \n",
       "Undersampling  54808  \n",
       "Oversampling     NaN  \n",
       "Hybrid           NaN  \n",
       "Custom           NaN  "
      ]
     },
     "execution_count": 15,
     "metadata": {},
     "output_type": "execute_result"
    }
   ],
   "source": [
    "sampling_strategy_metrics_df"
   ]
  },
  {
   "cell_type": "markdown",
   "metadata": {},
   "source": [
    "Though the Recall is better than our baseline, the fact that the Precision is so poor makes this model unusable\n",
    "ie though we capture nearly 90% of our Frauds, we have too many False Positives. "
   ]
  },
  {
   "cell_type": "code",
   "execution_count": 16,
   "metadata": {},
   "outputs": [
    {
     "name": "stdout",
     "output_type": "stream",
     "text": [
      "0.09920182440136831\n"
     ]
    }
   ],
   "source": [
    "# For comparison, lets print the precision at the recall threshold of 85%\n",
    "print(threshold_precision)"
   ]
  },
  {
   "cell_type": "markdown",
   "metadata": {},
   "source": [
    "If the modelling efforts were to stop now, business will likely choose the baseline model from week1\n",
    "because the False Positives are significantly lower and likely outweigh any benefits from increased capture of True Frauds"
   ]
  },
  {
   "cell_type": "markdown",
   "metadata": {},
   "source": [
    "### <a id = 422>Resampling Method2: Oversampling - SMOTE"
   ]
  },
  {
   "cell_type": "markdown",
   "metadata": {},
   "source": [
    "Next, I am going to try a popular oversampling technique for SMOTE\n",
    "SMOTE stands for Synthetic Minority Over-sampling Technique and was presented in a 2002 paper here\n",
    "https://jair.org/index.php/jair/article/view/10302/24590\n",
    "\n",
    "this technique is theoretically superior to just oversampling with replacement for the minority class \n",
    "(the latter causes the decision tree to overfit)\n",
    "In SMOTE, instead of sampling with replacement of the original minority class, synthetic new samples are generated\n",
    "According to the article, Synthetic samples are generated in the following way: "
   ]
  },
  {
   "cell_type": "markdown",
   "metadata": {},
   "source": [
    "\"Take the difference between the feature vector (sample)under consideration and its nearest neighbor. \n",
    "Multiply this difference by a random numberbetween 0 and 1, and add it to the feature vector under consideration.  \n",
    "This causes the selection of a random point along the line segment between two specific features.  \n",
    "This approach effectively forces the decision region of the minority class to become more general.\""
   ]
  },
  {
   "cell_type": "code",
   "execution_count": 17,
   "metadata": {},
   "outputs": [
    {
     "name": "stdout",
     "output_type": "stream",
     "text": [
      "The size of the resampled train sets are as follows:\n",
      "(454902, 30) 227451\n",
      "Has a Test accuracy of 100.0 % \n",
      "              precision    recall  f1-score   support\n",
      "\n",
      "   Non-Fraud       1.00      1.00      1.00     56864\n",
      "       Fraud       0.83      0.81      0.82        98\n",
      "\n",
      "   micro avg       1.00      1.00      1.00     56962\n",
      "   macro avg       0.92      0.90      0.91     56962\n",
      "weighted avg       1.00      1.00      1.00     56962\n",
      "\n",
      "The ROC AUC Score on Test set is 0.96\n",
      "Confusion matrix, without normalization\n",
      "[[56848    16]\n",
      " [   19    79]]\n"
     ]
    },
    {
     "data": {
      "image/png": "[encoded data removed]",
      "text/plain": [
       "<Figure size 720x432 with 1 Axes>"
      ]
     },
     "metadata": {},
     "output_type": "display_data"
    },
    {
     "data": {
      "image/png": "[encoded data removed]",
      "text/plain": [
       "<Figure size 576x288 with 2 Axes>"
      ]
     },
     "metadata": {},
     "output_type": "display_data"
    }
   ],
   "source": [
    "from imblearn.over_sampling import SMOTE\n",
    "\n",
    "_,__, sampling_strategy_metrics_df.loc['Oversampling'], threshold_precision = resample_and_test_performance_function(\n",
    "                                                          SMOTE(random_state=42), X_train, y_train, X_test, y_test, labels)\n",
    "\n",
    "# Notice how the size of the upsampled dataset is exactly twice as large as the number of minority positive class\n",
    "# This is characteristic of SMOTE"
   ]
  },
  {
   "cell_type": "code",
   "execution_count": 18,
   "metadata": {},
   "outputs": [
    {
     "data": {
      "text/html": [
       "<div>\n",
       "<style scoped>\n",
       "    .dataframe tbody tr th:only-of-type {\n",
       "        vertical-align: middle;\n",
       "    }\n",
       "\n",
       "    .dataframe tbody tr th {\n",
       "        vertical-align: top;\n",
       "    }\n",
       "\n",
       "    .dataframe thead th {\n",
       "        text-align: right;\n",
       "    }\n",
       "</style>\n",
       "<table border=\"1\" class=\"dataframe\">\n",
       "  <thead>\n",
       "    <tr style=\"text-align: right;\">\n",
       "      <th></th>\n",
       "      <th>Pos_Precision</th>\n",
       "      <th>Pos_Recall</th>\n",
       "      <th>Pos_F1</th>\n",
       "      <th>ROC AUC</th>\n",
       "      <th>FN</th>\n",
       "      <th>TP</th>\n",
       "      <th>FP</th>\n",
       "      <th>TN</th>\n",
       "    </tr>\n",
       "  </thead>\n",
       "  <tbody>\n",
       "    <tr>\n",
       "      <th>Undersampling</th>\n",
       "      <td>0.0410448</td>\n",
       "      <td>0.897959</td>\n",
       "      <td>0.0785013</td>\n",
       "      <td>0.97</td>\n",
       "      <td>10</td>\n",
       "      <td>88</td>\n",
       "      <td>2056</td>\n",
       "      <td>54808</td>\n",
       "    </tr>\n",
       "    <tr>\n",
       "      <th>Oversampling</th>\n",
       "      <td>0.831579</td>\n",
       "      <td>0.806122</td>\n",
       "      <td>0.818653</td>\n",
       "      <td>0.96</td>\n",
       "      <td>19</td>\n",
       "      <td>79</td>\n",
       "      <td>16</td>\n",
       "      <td>56848</td>\n",
       "    </tr>\n",
       "    <tr>\n",
       "      <th>Hybrid</th>\n",
       "      <td>NaN</td>\n",
       "      <td>NaN</td>\n",
       "      <td>NaN</td>\n",
       "      <td>NaN</td>\n",
       "      <td>NaN</td>\n",
       "      <td>NaN</td>\n",
       "      <td>NaN</td>\n",
       "      <td>NaN</td>\n",
       "    </tr>\n",
       "    <tr>\n",
       "      <th>Custom</th>\n",
       "      <td>NaN</td>\n",
       "      <td>NaN</td>\n",
       "      <td>NaN</td>\n",
       "      <td>NaN</td>\n",
       "      <td>NaN</td>\n",
       "      <td>NaN</td>\n",
       "      <td>NaN</td>\n",
       "      <td>NaN</td>\n",
       "    </tr>\n",
       "  </tbody>\n",
       "</table>\n",
       "</div>"
      ],
      "text/plain": [
       "              Pos_Precision Pos_Recall     Pos_F1 ROC AUC   FN   TP    FP  \\\n",
       "Undersampling     0.0410448   0.897959  0.0785013    0.97   10   88  2056   \n",
       "Oversampling       0.831579   0.806122   0.818653    0.96   19   79    16   \n",
       "Hybrid                  NaN        NaN        NaN     NaN  NaN  NaN   NaN   \n",
       "Custom                  NaN        NaN        NaN     NaN  NaN  NaN   NaN   \n",
       "\n",
       "                  TN  \n",
       "Undersampling  54808  \n",
       "Oversampling   56848  \n",
       "Hybrid           NaN  \n",
       "Custom           NaN  "
      ]
     },
     "execution_count": 18,
     "metadata": {},
     "output_type": "execute_result"
    }
   ],
   "source": [
    "sampling_strategy_metrics_df"
   ]
  },
  {
   "cell_type": "code",
   "execution_count": 19,
   "metadata": {},
   "outputs": [
    {
     "name": "stdout",
     "output_type": "stream",
     "text": [
      "0.68\n"
     ]
    }
   ],
   "source": [
    "# For comparison, lets print the precision at the recall threshold of 85%\n",
    "print(threshold_precision)"
   ]
  },
  {
   "cell_type": "markdown",
   "metadata": {},
   "source": [
    "As seen above, the precision is lower than that of the baseline model\n",
    "\n",
    "If the modelling efforts were to stop now, business will choose the baseline model from last week because the precision at a recall of 85% custom metric we created was way better"
   ]
  },
  {
   "cell_type": "markdown",
   "metadata": {},
   "source": [
    "Next, we are going to explore how the performance is affected if we go with a combination of upsampling and undersampling"
   ]
  },
  {
   "cell_type": "markdown",
   "metadata": {},
   "source": [
    "### <a id = 423>Resampling Method3: Hybrid Oversampling and Undersampling using SMOTEENN"
   ]
  },
  {
   "cell_type": "markdown",
   "metadata": {},
   "source": [
    "We are going to explore a strategy known as SMOTEENN\n",
    "which combines the now-familiar SMOTE upsampling technique with ENN undersampling\n",
    "https://imbalanced-learn.readthedocs.io/en/stable/api.html#module-imblearn.combine\n",
    "\n",
    "\n",
    "ENN is Edited Nearest Neighbors which first oversamples both the minority and majority class until they are balanced.\n",
    "Then the Tomek links are removed. This prevents the majority class from 'intruding' too deep into the minority class space\n",
    "This is explained in the following paper https://pdfs.semanticscholar.org/c1a9/5197e15fa99f55cd0cb2ee14d2f02699a919.pdf\n",
    "\n",
    "the original description of Tomek links is given in the IEEE paper from 1976\n",
    "https://ieeexplore.ieee.org/stamp/stamp.jsp?tp=&arnumber=4309452"
   ]
  },
  {
   "cell_type": "code",
   "execution_count": 20,
   "metadata": {},
   "outputs": [
    {
     "name": "stdout",
     "output_type": "stream",
     "text": [
      "The size of the resampled train sets are as follows:\n",
      "(427652, 30) 218370\n",
      "Has a Test accuracy of 100.0 % \n",
      "              precision    recall  f1-score   support\n",
      "\n",
      "   Non-Fraud       1.00      1.00      1.00     56864\n",
      "       Fraud       0.84      0.83      0.84        98\n",
      "\n",
      "   micro avg       1.00      1.00      1.00     56962\n",
      "   macro avg       0.92      0.91      0.92     56962\n",
      "weighted avg       1.00      1.00      1.00     56962\n",
      "\n",
      "The ROC AUC Score on Test set is 0.95\n",
      "Confusion matrix, without normalization\n",
      "[[56849    15]\n",
      " [   17    81]]\n"
     ]
    },
    {
     "data": {
      "image/png": "[encoded data removed]",
      "text/plain": [
       "<Figure size 720x432 with 1 Axes>"
      ]
     },
     "metadata": {},
     "output_type": "display_data"
    },
    {
     "data": {
      "image/png": "[encoded data removed]",
      "text/plain": [
       "<Figure size 576x288 with 2 Axes>"
      ]
     },
     "metadata": {},
     "output_type": "display_data"
    }
   ],
   "source": [
    "from imblearn.combine import SMOTEENN\n",
    "\n",
    "# Note that unlike the previous 2 methods, SMOTEENN comes with the param for the sampling_strategy.\n",
    "# The default is auto' which will select the minority class only but I chose to resample both classes\n",
    "\n",
    "_,__, sampling_strategy_metrics_df.loc['Hybrid'], threshold_precision = resample_and_test_performance_function(\n",
    "                            SMOTEENN(sampling_strategy = 'all' ,random_state=42), X_train, y_train, X_test, y_test, labels)\n",
    "\n",
    "# Unlike the other resampling strategies, the resampled data size isnt easy to infer from the original data size"
   ]
  },
  {
   "cell_type": "code",
   "execution_count": 21,
   "metadata": {},
   "outputs": [
    {
     "data": {
      "text/html": [
       "<div>\n",
       "<style scoped>\n",
       "    .dataframe tbody tr th:only-of-type {\n",
       "        vertical-align: middle;\n",
       "    }\n",
       "\n",
       "    .dataframe tbody tr th {\n",
       "        vertical-align: top;\n",
       "    }\n",
       "\n",
       "    .dataframe thead th {\n",
       "        text-align: right;\n",
       "    }\n",
       "</style>\n",
       "<table border=\"1\" class=\"dataframe\">\n",
       "  <thead>\n",
       "    <tr style=\"text-align: right;\">\n",
       "      <th></th>\n",
       "      <th>Pos_Precision</th>\n",
       "      <th>Pos_Recall</th>\n",
       "      <th>Pos_F1</th>\n",
       "      <th>ROC AUC</th>\n",
       "      <th>FN</th>\n",
       "      <th>TP</th>\n",
       "      <th>FP</th>\n",
       "      <th>TN</th>\n",
       "    </tr>\n",
       "  </thead>\n",
       "  <tbody>\n",
       "    <tr>\n",
       "      <th>Undersampling</th>\n",
       "      <td>0.0410448</td>\n",
       "      <td>0.897959</td>\n",
       "      <td>0.0785013</td>\n",
       "      <td>0.97</td>\n",
       "      <td>10</td>\n",
       "      <td>88</td>\n",
       "      <td>2056</td>\n",
       "      <td>54808</td>\n",
       "    </tr>\n",
       "    <tr>\n",
       "      <th>Oversampling</th>\n",
       "      <td>0.831579</td>\n",
       "      <td>0.806122</td>\n",
       "      <td>0.818653</td>\n",
       "      <td>0.96</td>\n",
       "      <td>19</td>\n",
       "      <td>79</td>\n",
       "      <td>16</td>\n",
       "      <td>56848</td>\n",
       "    </tr>\n",
       "    <tr>\n",
       "      <th>Hybrid</th>\n",
       "      <td>0.84375</td>\n",
       "      <td>0.826531</td>\n",
       "      <td>0.835052</td>\n",
       "      <td>0.95</td>\n",
       "      <td>17</td>\n",
       "      <td>81</td>\n",
       "      <td>15</td>\n",
       "      <td>56849</td>\n",
       "    </tr>\n",
       "    <tr>\n",
       "      <th>Custom</th>\n",
       "      <td>NaN</td>\n",
       "      <td>NaN</td>\n",
       "      <td>NaN</td>\n",
       "      <td>NaN</td>\n",
       "      <td>NaN</td>\n",
       "      <td>NaN</td>\n",
       "      <td>NaN</td>\n",
       "      <td>NaN</td>\n",
       "    </tr>\n",
       "  </tbody>\n",
       "</table>\n",
       "</div>"
      ],
      "text/plain": [
       "              Pos_Precision Pos_Recall     Pos_F1 ROC AUC   FN   TP    FP  \\\n",
       "Undersampling     0.0410448   0.897959  0.0785013    0.97   10   88  2056   \n",
       "Oversampling       0.831579   0.806122   0.818653    0.96   19   79    16   \n",
       "Hybrid              0.84375   0.826531   0.835052    0.95   17   81    15   \n",
       "Custom                  NaN        NaN        NaN     NaN  NaN  NaN   NaN   \n",
       "\n",
       "                  TN  \n",
       "Undersampling  54808  \n",
       "Oversampling   56848  \n",
       "Hybrid         56849  \n",
       "Custom           NaN  "
      ]
     },
     "execution_count": 21,
     "metadata": {},
     "output_type": "execute_result"
    }
   ],
   "source": [
    "sampling_strategy_metrics_df"
   ]
  },
  {
   "cell_type": "code",
   "execution_count": 22,
   "metadata": {},
   "outputs": [
    {
     "name": "stdout",
     "output_type": "stream",
     "text": [
      "0.7818181818181819\n"
     ]
    }
   ],
   "source": [
    "# For comparison, lets print the precision at the recall threshold of 85%\n",
    "print(threshold_precision)"
   ]
  },
  {
   "cell_type": "markdown",
   "metadata": {},
   "source": [
    "This is better than the other two resampling techniques but still lower than the baseline model"
   ]
  },
  {
   "cell_type": "markdown",
   "metadata": {},
   "source": [
    "### <a id = 424>Resampling Method4: Custom function to oversample at different rates"
   ]
  },
  {
   "cell_type": "code",
   "execution_count": 23,
   "metadata": {},
   "outputs": [],
   "source": [
    "# The generalized version of the oversampling is when we simultaneously upsample both the classes at different rates"
   ]
  },
  {
   "cell_type": "code",
   "execution_count": 24,
   "metadata": {},
   "outputs": [],
   "source": [
    "# This function was inspired by the notebook from Kaggle\n",
    "# https://www.kaggle.com/niteshx2/beginner-explained-lgb-2-leaves-augment\n",
    "def augment_data_function(X_train, y_train, positive_upsampling_ratio=4, negative_upsampling_ratio=2): \n",
    "    \n",
    "    '''\n",
    "    Args:\n",
    "    x - feature dataframe\n",
    "    y - target series\n",
    "    positive_upsampling_ratio - how much to upsample the positive class by\n",
    "    negative_upsampling_ratio - how much to upsample the negative class by\n",
    "    \n",
    "    Logic: The two separate upsampling ratios allow you to independently control how much each class gets sampled\n",
    "    While this was originally created to augment both classes simultaneously, \n",
    "    it can be used to deliberately upsample one class but not the other    \n",
    "    \n",
    "\n",
    "    Returns: augmented feature and target columns\n",
    "    \n",
    "    '''    \n",
    "    # Always set the seed ! Otherwise you wont be able to replicate the results\n",
    "    np.random.seed(42)\n",
    "    \n",
    "    # Convert the input dataframes into arrays\n",
    "    x, y = X_train.values, y_train.values\n",
    "    \n",
    "    # create empty arrays for the positive and negative rows in the input data\n",
    "    xs, xn = [], []\n",
    "    \n",
    "    # This code segment augments the positive class\n",
    "    for i in range(positive_upsampling_ratio-1):\n",
    "        \n",
    "        # Create a mask for the positive class and augment those indices\n",
    "        mask = y>0\n",
    "        temp_array = x[mask].copy()\n",
    "        ids = np.arange(temp_array.shape[0])\n",
    "        \n",
    "        # This is just to provide more randomness in shuffling. The actual data size doesnt change here\n",
    "        # Shuffle it as many times as there are columns. More columns -> more shuffle\n",
    "        for c in range(temp_array.shape[1]):\n",
    "            \n",
    "            # this shuffles the indices in place\n",
    "            np.random.shuffle(ids)\n",
    "            temp_array[:,c] = temp_array[ids][:,c]\n",
    "            \n",
    "        xs.append(temp_array)\n",
    "\n",
    "    # This code segment augments the negative class. Note how the t param is now floor divided?\n",
    "    # This results in the augmentation at a lower volume than the positive class above\n",
    "    for i in range(negative_upsampling_ratio-1):\n",
    "        \n",
    "        # Create a mask for the negative class and augment those indices\n",
    "        mask = y==0\n",
    "        temp_array = x[mask].copy()\n",
    "        ids = np.arange(temp_array.shape[0])\n",
    "        \n",
    "        \n",
    "        for c in range(temp_array.shape[1]):\n",
    "            np.random.shuffle(ids)\n",
    "            temp_array[:,c] = temp_array[ids][:,c]\n",
    "        \n",
    "        # Append these back to the array that stores the negative labelled features\n",
    "        xn.append(temp_array)\n",
    "        \n",
    "    \n",
    "    xs = np.vstack(xs)\n",
    "    xn = np.vstack(xn)\n",
    "    \n",
    "    # create an array of 1s and 0s with the same number of rows as the corresponding synthetically created feature matrices\n",
    "    ys = np.ones(xs.shape[0])\n",
    "    yn = np.zeros(xn.shape[0])\n",
    "    \n",
    "    # merge it back with the original data by stacking it one below the other\n",
    "    x = np.vstack([x,xs,xn])\n",
    "    y = np.concatenate([y,ys,yn])\n",
    "    \n",
    "    # convert the arrays back into dataframes\n",
    "    X_resampled_df = pd.DataFrame(data=x, columns=X_train.columns)\n",
    "    y_resampled = pd.Series(y)\n",
    "    \n",
    "    return X_resampled_df, y_resampled\n",
    "\n",
    "### X_train_resampled, y_train_resampled = augment_data_function(X_train, y_train,  \n",
    "#                                                    positive_upsampling_ratio=4, negative_upsampling_ratio=2)\n",
    "\n",
    "### Typical Usage: within the stratified K Fold when you are augmenting the train portion and predicting on the other fold\n",
    "\n",
    "# Limitations:\n",
    "#     Only applicable for binary classes. If you want to use it for multi-class classification, then you would have to \n",
    "#     generalize the code starting with how the input is received"
   ]
  },
  {
   "cell_type": "code",
   "execution_count": 25,
   "metadata": {},
   "outputs": [
    {
     "name": "stdout",
     "output_type": "stream",
     "text": [
      "(456478, 30) 1576.0\n"
     ]
    }
   ],
   "source": [
    "X_resampled_train, y_resampled_train = augment_data_function(X_train, y_train, \n",
    "                                                             positive_upsampling_ratio=4, negative_upsampling_ratio=2)\n",
    "print(X_resampled_train.shape,sum(y_resampled_train))"
   ]
  },
  {
   "cell_type": "code",
   "execution_count": 26,
   "metadata": {},
   "outputs": [
    {
     "name": "stdout",
     "output_type": "stream",
     "text": [
      "Has a Test accuracy of 100.0 % \n",
      "              precision    recall  f1-score   support\n",
      "\n",
      "   Non-Fraud       1.00      1.00      1.00     56864\n",
      "       Fraud       0.92      0.84      0.88        98\n",
      "\n",
      "   micro avg       1.00      1.00      1.00     56962\n",
      "   macro avg       0.96      0.92      0.94     56962\n",
      "weighted avg       1.00      1.00      1.00     56962\n",
      "\n",
      "The ROC AUC Score on Test set is 0.94\n",
      "Confusion matrix, without normalization\n",
      "[[56857     7]\n",
      " [   16    82]]\n"
     ]
    },
    {
     "data": {
      "image/png": "[encoded data removed]",
      "text/plain": [
       "<Figure size 720x432 with 1 Axes>"
      ]
     },
     "metadata": {},
     "output_type": "display_data"
    },
    {
     "data": {
      "image/png": "[encoded data removed]",
      "text/plain": [
       "<Figure size 576x288 with 2 Axes>"
      ]
     },
     "metadata": {},
     "output_type": "display_data"
    }
   ],
   "source": [
    "sampling_strategy_metrics_df.loc['Custom'], threshold_precision = test_rf_performance_function(\n",
    "                            X_resampled_train, y_resampled_train, X_test, y_test, labels)"
   ]
  },
  {
   "cell_type": "code",
   "execution_count": 27,
   "metadata": {},
   "outputs": [
    {
     "data": {
      "text/html": [
       "<div>\n",
       "<style scoped>\n",
       "    .dataframe tbody tr th:only-of-type {\n",
       "        vertical-align: middle;\n",
       "    }\n",
       "\n",
       "    .dataframe tbody tr th {\n",
       "        vertical-align: top;\n",
       "    }\n",
       "\n",
       "    .dataframe thead th {\n",
       "        text-align: right;\n",
       "    }\n",
       "</style>\n",
       "<table border=\"1\" class=\"dataframe\">\n",
       "  <thead>\n",
       "    <tr style=\"text-align: right;\">\n",
       "      <th></th>\n",
       "      <th>Pos_Precision</th>\n",
       "      <th>Pos_Recall</th>\n",
       "      <th>Pos_F1</th>\n",
       "      <th>ROC AUC</th>\n",
       "      <th>FN</th>\n",
       "      <th>TP</th>\n",
       "      <th>FP</th>\n",
       "      <th>TN</th>\n",
       "    </tr>\n",
       "  </thead>\n",
       "  <tbody>\n",
       "    <tr>\n",
       "      <th>Undersampling</th>\n",
       "      <td>0.0410448</td>\n",
       "      <td>0.897959</td>\n",
       "      <td>0.0785013</td>\n",
       "      <td>0.97</td>\n",
       "      <td>10</td>\n",
       "      <td>88</td>\n",
       "      <td>2056</td>\n",
       "      <td>54808</td>\n",
       "    </tr>\n",
       "    <tr>\n",
       "      <th>Oversampling</th>\n",
       "      <td>0.831579</td>\n",
       "      <td>0.806122</td>\n",
       "      <td>0.818653</td>\n",
       "      <td>0.96</td>\n",
       "      <td>19</td>\n",
       "      <td>79</td>\n",
       "      <td>16</td>\n",
       "      <td>56848</td>\n",
       "    </tr>\n",
       "    <tr>\n",
       "      <th>Hybrid</th>\n",
       "      <td>0.84375</td>\n",
       "      <td>0.826531</td>\n",
       "      <td>0.835052</td>\n",
       "      <td>0.95</td>\n",
       "      <td>17</td>\n",
       "      <td>81</td>\n",
       "      <td>15</td>\n",
       "      <td>56849</td>\n",
       "    </tr>\n",
       "    <tr>\n",
       "      <th>Custom</th>\n",
       "      <td>0.921348</td>\n",
       "      <td>0.836735</td>\n",
       "      <td>0.877005</td>\n",
       "      <td>0.94</td>\n",
       "      <td>16</td>\n",
       "      <td>82</td>\n",
       "      <td>7</td>\n",
       "      <td>56857</td>\n",
       "    </tr>\n",
       "  </tbody>\n",
       "</table>\n",
       "</div>"
      ],
      "text/plain": [
       "              Pos_Precision Pos_Recall     Pos_F1 ROC AUC  FN  TP    FP     TN\n",
       "Undersampling     0.0410448   0.897959  0.0785013    0.97  10  88  2056  54808\n",
       "Oversampling       0.831579   0.806122   0.818653    0.96  19  79    16  56848\n",
       "Hybrid              0.84375   0.826531   0.835052    0.95  17  81    15  56849\n",
       "Custom             0.921348   0.836735   0.877005    0.94  16  82     7  56857"
      ]
     },
     "execution_count": 27,
     "metadata": {},
     "output_type": "execute_result"
    }
   ],
   "source": [
    "sampling_strategy_metrics_df"
   ]
  },
  {
   "cell_type": "code",
   "execution_count": 28,
   "metadata": {},
   "outputs": [
    {
     "name": "stdout",
     "output_type": "stream",
     "text": [
      "0.8762886597938144\n"
     ]
    }
   ],
   "source": [
    "# For comparison, lets print the precision at the recall threshold of 85%\n",
    "print(threshold_precision)"
   ]
  },
  {
   "cell_type": "markdown",
   "metadata": {},
   "source": [
    "The custom function's Recall and F1 score are superior any of the other resampling techniques seen so far\n",
    "and close to the baseline model."
   ]
  },
  {
   "cell_type": "markdown",
   "metadata": {},
   "source": [
    "## <a id = 5> Data Cleansing"
   ]
  },
  {
   "cell_type": "markdown",
   "metadata": {},
   "source": [
    "Lets try to further improve this performance by removing Outliers and rerunning the training. Which features do we focus our efforts on ? Instead of all the 30 features, aim to pick the top 5 based on the feature importance and get them cleaned up. "
   ]
  },
  {
   "cell_type": "markdown",
   "metadata": {},
   "source": [
    "### <a id = 51> Selecting top features - Feature Importances"
   ]
  },
  {
   "cell_type": "markdown",
   "metadata": {},
   "source": [
    "Note that there are many methods to select the top features including using a Correlation Matrix with the Target Variable. Note that it doesnt really matter which data you use to get the feature importances"
   ]
  },
  {
   "cell_type": "code",
   "execution_count": 29,
   "metadata": {},
   "outputs": [
    {
     "data": {
      "text/plain": [
       "RandomForestClassifier(bootstrap=True, class_weight=None, criterion='gini',\n",
       "            max_depth=None, max_features='auto', max_leaf_nodes=None,\n",
       "            min_impurity_decrease=0.0, min_impurity_split=None,\n",
       "            min_samples_leaf=1, min_samples_split=2,\n",
       "            min_weight_fraction_leaf=0.0, n_estimators=10, n_jobs=None,\n",
       "            oob_score=False, random_state=42, verbose=0, warm_start=False)"
      ]
     },
     "execution_count": 29,
     "metadata": {},
     "output_type": "execute_result"
    }
   ],
   "source": [
    "# Lets define a simple classifier based on the above augmented data\n",
    "\n",
    "from sklearn.ensemble import RandomForestClassifier\n",
    "classifier = RandomForestClassifier(random_state = 42)\n",
    "\n",
    "# Fit on the resampled train data\n",
    "classifier.fit(X_resampled_train, y_resampled_train)"
   ]
  },
  {
   "cell_type": "code",
   "execution_count": 30,
   "metadata": {},
   "outputs": [
    {
     "data": {
      "text/html": [
       "<div>\n",
       "<style scoped>\n",
       "    .dataframe tbody tr th:only-of-type {\n",
       "        vertical-align: middle;\n",
       "    }\n",
       "\n",
       "    .dataframe tbody tr th {\n",
       "        vertical-align: top;\n",
       "    }\n",
       "\n",
       "    .dataframe thead th {\n",
       "        text-align: right;\n",
       "    }\n",
       "</style>\n",
       "<table border=\"1\" class=\"dataframe\">\n",
       "  <thead>\n",
       "    <tr style=\"text-align: right;\">\n",
       "      <th></th>\n",
       "      <th>feature</th>\n",
       "      <th>importance</th>\n",
       "    </tr>\n",
       "  </thead>\n",
       "  <tbody>\n",
       "    <tr>\n",
       "      <th>14</th>\n",
       "      <td>V14</td>\n",
       "      <td>0.284387</td>\n",
       "    </tr>\n",
       "    <tr>\n",
       "      <th>17</th>\n",
       "      <td>V17</td>\n",
       "      <td>0.180990</td>\n",
       "    </tr>\n",
       "    <tr>\n",
       "      <th>10</th>\n",
       "      <td>V10</td>\n",
       "      <td>0.140147</td>\n",
       "    </tr>\n",
       "    <tr>\n",
       "      <th>12</th>\n",
       "      <td>V12</td>\n",
       "      <td>0.127225</td>\n",
       "    </tr>\n",
       "    <tr>\n",
       "      <th>16</th>\n",
       "      <td>V16</td>\n",
       "      <td>0.033573</td>\n",
       "    </tr>\n",
       "  </tbody>\n",
       "</table>\n",
       "</div>"
      ],
      "text/plain": [
       "   feature  importance\n",
       "14     V14    0.284387\n",
       "17     V17    0.180990\n",
       "10     V10    0.140147\n",
       "12     V12    0.127225\n",
       "16     V16    0.033573"
      ]
     },
     "execution_count": 30,
     "metadata": {},
     "output_type": "execute_result"
    }
   ],
   "source": [
    "# Get the feature importances\n",
    "feature_importances = classifier.feature_importances_\n",
    "\n",
    "# Create a dataframe to hold the feature importances\n",
    "feature_importances_df = pd.DataFrame({'feature': list(X.columns), \n",
    "                    'importance': feature_importances}).sort_values('importance', ascending = False)\n",
    "\n",
    "feature_importances_df.head(5)\n",
    "# Print from the highest to the lowest"
   ]
  },
  {
   "cell_type": "code",
   "execution_count": 31,
   "metadata": {},
   "outputs": [],
   "source": [
    "# Continue with the Outlier removal for the subset of the features identified by the feature importances"
   ]
  },
  {
   "cell_type": "code",
   "execution_count": 32,
   "metadata": {},
   "outputs": [
    {
     "data": {
      "text/plain": [
       "['V14', 'V17', 'V10', 'V12', 'V16']"
      ]
     },
     "execution_count": 32,
     "metadata": {},
     "output_type": "execute_result"
    }
   ],
   "source": [
    "imp_column_list = list(feature_importances_df.head(5)['feature'].values)\n",
    "imp_column_list"
   ]
  },
  {
   "cell_type": "markdown",
   "metadata": {},
   "source": [
    "### <a id = 52> Isolating the Fraudulent data points"
   ]
  },
  {
   "cell_type": "markdown",
   "metadata": {},
   "source": [
    "Given that our dataset is skewed, if we were to include the whole dataset in identifying the outliers, the concern is that the outliers from the non-fraud cases will swamp the signal from the fraud cases. Hence the right thing to do will be to focus on the subset of the data that is labelled as frauds, remove those and merge it back with the overall dataset.\n",
    "\n",
    "As a first step, we need to join our features and target variable"
   ]
  },
  {
   "cell_type": "code",
   "execution_count": 33,
   "metadata": {},
   "outputs": [
    {
     "name": "stdout",
     "output_type": "stream",
     "text": [
      "456478 1576.0\n"
     ]
    },
    {
     "data": {
      "text/html": [
       "<div>\n",
       "<style scoped>\n",
       "    .dataframe tbody tr th:only-of-type {\n",
       "        vertical-align: middle;\n",
       "    }\n",
       "\n",
       "    .dataframe tbody tr th {\n",
       "        vertical-align: top;\n",
       "    }\n",
       "\n",
       "    .dataframe thead th {\n",
       "        text-align: right;\n",
       "    }\n",
       "</style>\n",
       "<table border=\"1\" class=\"dataframe\">\n",
       "  <thead>\n",
       "    <tr style=\"text-align: right;\">\n",
       "      <th></th>\n",
       "      <th>Time</th>\n",
       "      <th>V1</th>\n",
       "      <th>V2</th>\n",
       "      <th>V3</th>\n",
       "      <th>V4</th>\n",
       "      <th>V5</th>\n",
       "      <th>V6</th>\n",
       "      <th>V7</th>\n",
       "      <th>V8</th>\n",
       "      <th>V9</th>\n",
       "      <th>...</th>\n",
       "      <th>V21</th>\n",
       "      <th>V22</th>\n",
       "      <th>V23</th>\n",
       "      <th>V24</th>\n",
       "      <th>V25</th>\n",
       "      <th>V26</th>\n",
       "      <th>V27</th>\n",
       "      <th>V28</th>\n",
       "      <th>Amount</th>\n",
       "      <th>Class</th>\n",
       "    </tr>\n",
       "  </thead>\n",
       "  <tbody>\n",
       "    <tr>\n",
       "      <th>0</th>\n",
       "      <td>161919.0</td>\n",
       "      <td>1.946747</td>\n",
       "      <td>-0.752526</td>\n",
       "      <td>-1.355130</td>\n",
       "      <td>-0.661630</td>\n",
       "      <td>1.502822</td>\n",
       "      <td>4.024933</td>\n",
       "      <td>-1.479661</td>\n",
       "      <td>1.139880</td>\n",
       "      <td>1.406819</td>\n",
       "      <td>...</td>\n",
       "      <td>0.076197</td>\n",
       "      <td>0.297537</td>\n",
       "      <td>0.307915</td>\n",
       "      <td>0.690980</td>\n",
       "      <td>-0.350316</td>\n",
       "      <td>-0.388907</td>\n",
       "      <td>0.077641</td>\n",
       "      <td>-0.032248</td>\n",
       "      <td>7.32</td>\n",
       "      <td>0.0</td>\n",
       "    </tr>\n",
       "    <tr>\n",
       "      <th>1</th>\n",
       "      <td>124477.0</td>\n",
       "      <td>2.035149</td>\n",
       "      <td>-0.048880</td>\n",
       "      <td>-3.058693</td>\n",
       "      <td>0.247945</td>\n",
       "      <td>2.943487</td>\n",
       "      <td>3.298697</td>\n",
       "      <td>-0.002192</td>\n",
       "      <td>0.674782</td>\n",
       "      <td>0.045826</td>\n",
       "      <td>...</td>\n",
       "      <td>0.038628</td>\n",
       "      <td>0.228197</td>\n",
       "      <td>0.035542</td>\n",
       "      <td>0.707090</td>\n",
       "      <td>0.512885</td>\n",
       "      <td>-0.471198</td>\n",
       "      <td>0.002520</td>\n",
       "      <td>-0.069002</td>\n",
       "      <td>2.99</td>\n",
       "      <td>0.0</td>\n",
       "    </tr>\n",
       "    <tr>\n",
       "      <th>2</th>\n",
       "      <td>41191.0</td>\n",
       "      <td>-0.991920</td>\n",
       "      <td>0.603193</td>\n",
       "      <td>0.711976</td>\n",
       "      <td>-0.992425</td>\n",
       "      <td>-0.825838</td>\n",
       "      <td>1.956261</td>\n",
       "      <td>-2.212603</td>\n",
       "      <td>-5.037523</td>\n",
       "      <td>0.000772</td>\n",
       "      <td>...</td>\n",
       "      <td>-2.798352</td>\n",
       "      <td>0.109526</td>\n",
       "      <td>-0.436530</td>\n",
       "      <td>-0.932803</td>\n",
       "      <td>0.826684</td>\n",
       "      <td>0.913773</td>\n",
       "      <td>0.038049</td>\n",
       "      <td>0.185340</td>\n",
       "      <td>175.10</td>\n",
       "      <td>0.0</td>\n",
       "    </tr>\n",
       "    <tr>\n",
       "      <th>3</th>\n",
       "      <td>132624.0</td>\n",
       "      <td>2.285718</td>\n",
       "      <td>-1.500239</td>\n",
       "      <td>-0.747565</td>\n",
       "      <td>-1.668119</td>\n",
       "      <td>-1.394143</td>\n",
       "      <td>-0.350339</td>\n",
       "      <td>-1.427984</td>\n",
       "      <td>0.010010</td>\n",
       "      <td>-1.118447</td>\n",
       "      <td>...</td>\n",
       "      <td>-0.139670</td>\n",
       "      <td>0.077013</td>\n",
       "      <td>0.208310</td>\n",
       "      <td>-0.538236</td>\n",
       "      <td>-0.278032</td>\n",
       "      <td>-0.162068</td>\n",
       "      <td>0.018045</td>\n",
       "      <td>-0.063005</td>\n",
       "      <td>6.10</td>\n",
       "      <td>0.0</td>\n",
       "    </tr>\n",
       "    <tr>\n",
       "      <th>4</th>\n",
       "      <td>59359.0</td>\n",
       "      <td>-0.448747</td>\n",
       "      <td>-1.011440</td>\n",
       "      <td>0.115903</td>\n",
       "      <td>-3.454854</td>\n",
       "      <td>0.715771</td>\n",
       "      <td>-0.147490</td>\n",
       "      <td>0.504347</td>\n",
       "      <td>-0.113817</td>\n",
       "      <td>-0.044782</td>\n",
       "      <td>...</td>\n",
       "      <td>-0.243245</td>\n",
       "      <td>-0.173298</td>\n",
       "      <td>-0.006692</td>\n",
       "      <td>-1.362383</td>\n",
       "      <td>-0.292234</td>\n",
       "      <td>-0.144622</td>\n",
       "      <td>-0.032580</td>\n",
       "      <td>-0.064194</td>\n",
       "      <td>86.10</td>\n",
       "      <td>0.0</td>\n",
       "    </tr>\n",
       "  </tbody>\n",
       "</table>\n",
       "<p>5 rows × 31 columns</p>\n",
       "</div>"
      ],
      "text/plain": [
       "       Time        V1        V2        V3        V4        V5        V6  \\\n",
       "0  161919.0  1.946747 -0.752526 -1.355130 -0.661630  1.502822  4.024933   \n",
       "1  124477.0  2.035149 -0.048880 -3.058693  0.247945  2.943487  3.298697   \n",
       "2   41191.0 -0.991920  0.603193  0.711976 -0.992425 -0.825838  1.956261   \n",
       "3  132624.0  2.285718 -1.500239 -0.747565 -1.668119 -1.394143 -0.350339   \n",
       "4   59359.0 -0.448747 -1.011440  0.115903 -3.454854  0.715771 -0.147490   \n",
       "\n",
       "         V7        V8        V9  ...         V21       V22       V23  \\\n",
       "0 -1.479661  1.139880  1.406819  ...    0.076197  0.297537  0.307915   \n",
       "1 -0.002192  0.674782  0.045826  ...    0.038628  0.228197  0.035542   \n",
       "2 -2.212603 -5.037523  0.000772  ...   -2.798352  0.109526 -0.436530   \n",
       "3 -1.427984  0.010010 -1.118447  ...   -0.139670  0.077013  0.208310   \n",
       "4  0.504347 -0.113817 -0.044782  ...   -0.243245 -0.173298 -0.006692   \n",
       "\n",
       "        V24       V25       V26       V27       V28  Amount  Class  \n",
       "0  0.690980 -0.350316 -0.388907  0.077641 -0.032248    7.32    0.0  \n",
       "1  0.707090  0.512885 -0.471198  0.002520 -0.069002    2.99    0.0  \n",
       "2 -0.932803  0.826684  0.913773  0.038049  0.185340  175.10    0.0  \n",
       "3 -0.538236 -0.278032 -0.162068  0.018045 -0.063005    6.10    0.0  \n",
       "4 -1.362383 -0.292234 -0.144622 -0.032580 -0.064194   86.10    0.0  \n",
       "\n",
       "[5 rows x 31 columns]"
      ]
     },
     "execution_count": 33,
     "metadata": {},
     "output_type": "execute_result"
    }
   ],
   "source": [
    "# Concatenate the Features and the Target variable because we will be focussing on the fraud portion of the dataset\n",
    "XY_resampled_train = pd.concat([X_resampled_train, y_resampled_train], axis = 1)\n",
    "XY_resampled_train.rename(columns={0:target_class_name},inplace=True)\n",
    "\n",
    "print(len(XY_resampled_train), sum(y_resampled_train))\n",
    "XY_resampled_train.head()"
   ]
  },
  {
   "cell_type": "code",
   "execution_count": 34,
   "metadata": {},
   "outputs": [
    {
     "data": {
      "text/plain": [
       "(1576, 454902, 456478)"
      ]
     },
     "execution_count": 34,
     "metadata": {},
     "output_type": "execute_result"
    }
   ],
   "source": [
    "# This dataframe stores only the subset of the fraud cases that have been previously generated from the train set\n",
    "fraud_resampled_train_df = XY_resampled_train[XY_resampled_train[target_class_name]==1].copy()\n",
    "non_fraud_resampled_train_df = XY_resampled_train[XY_resampled_train[target_class_name]==0].copy()\n",
    "\n",
    "# Verify the splits have been done properly\n",
    "len(fraud_resampled_train_df), len(non_fraud_resampled_train_df), len(XY_resampled_train)\n",
    "\n",
    "# Makes sense because we augmented the positive class by 4x last time"
   ]
  },
  {
   "cell_type": "markdown",
   "metadata": {},
   "source": [
    "### <a id = 53> Visualizing Distributions of top features"
   ]
  },
  {
   "cell_type": "code",
   "execution_count": 35,
   "metadata": {},
   "outputs": [
    {
     "data": {
      "image/png": "[encoded data removed]",
      "text/plain": [
       "<Figure size 1152x576 with 3 Axes>"
      ]
     },
     "metadata": {},
     "output_type": "display_data"
    },
    {
     "data": {
      "image/png": "[encoded data removed]",
      "text/plain": [
       "<Figure size 1152x576 with 3 Axes>"
      ]
     },
     "metadata": {},
     "output_type": "display_data"
    },
    {
     "data": {
      "image/png": "[encoded data removed]",
      "text/plain": [
       "<Figure size 1152x576 with 3 Axes>"
      ]
     },
     "metadata": {},
     "output_type": "display_data"
    },
    {
     "data": {
      "image/png": "[encoded data removed]",
      "text/plain": [
       "<Figure size 1152x576 with 3 Axes>"
      ]
     },
     "metadata": {},
     "output_type": "display_data"
    },
    {
     "data": {
      "image/png": "[encoded data removed]",
      "text/plain": [
       "<Figure size 1152x576 with 3 Axes>"
      ]
     },
     "metadata": {},
     "output_type": "display_data"
    }
   ],
   "source": [
    "from helper_functions_comprehensive import numerical_distribution_function\n",
    "\n",
    "# Use our custom function to generate the distributions, boxplots and the Quantiles\n",
    "# You can specify a higher or lower bin size depending on the sample size\n",
    "\n",
    "# Here I want roughly 30 data points on average to fall in each bin\n",
    "no_of_bins = len(fraud_resampled_train_df)//30\n",
    "numerical_distribution_function(fraud_resampled_train_df[imp_column_list], bins=no_of_bins)\n",
    "# some of the variables look like they have smaller multi modal distributions"
   ]
  },
  {
   "cell_type": "markdown",
   "metadata": {},
   "source": [
    "### <a id = 54> Outlier Definition, Detection & Removal"
   ]
  },
  {
   "cell_type": "markdown",
   "metadata": {},
   "source": [
    "There are various qualitative and quantitative methods of defining outliers depending on the use case. Given that the data feature column headers have been anonymised, we are constrained to use only the quantitative techniques for outlier detection.\n",
    "\n",
    "Even among the quantitative techniques, there are several approaches, the most popular one being the use of InterQuartile Distance to define the range in which the usual number of points lie. Other methods include the use of Z scores to identify the boundaries beyond which the data points can be removed. The comparison of these 2 is given here http://colingorrie.github.io/outlier-detection.html"
   ]
  },
  {
   "cell_type": "code",
   "execution_count": 36,
   "metadata": {},
   "outputs": [
    {
     "data": {
      "text/html": [
       "<div>\n",
       "<style scoped>\n",
       "    .dataframe tbody tr th:only-of-type {\n",
       "        vertical-align: middle;\n",
       "    }\n",
       "\n",
       "    .dataframe tbody tr th {\n",
       "        vertical-align: top;\n",
       "    }\n",
       "\n",
       "    .dataframe thead th {\n",
       "        text-align: right;\n",
       "    }\n",
       "</style>\n",
       "<table border=\"1\" class=\"dataframe\">\n",
       "  <thead>\n",
       "    <tr style=\"text-align: right;\">\n",
       "      <th></th>\n",
       "      <th>0.25</th>\n",
       "      <th>0.75</th>\n",
       "      <th>lower_cutoff</th>\n",
       "      <th>upper_cutoff</th>\n",
       "    </tr>\n",
       "  </thead>\n",
       "  <tbody>\n",
       "    <tr>\n",
       "      <th>V14</th>\n",
       "      <td>-9.657627</td>\n",
       "      <td>-4.211756</td>\n",
       "      <td>-17.826433</td>\n",
       "      <td>3.957050</td>\n",
       "    </tr>\n",
       "    <tr>\n",
       "      <th>V17</th>\n",
       "      <td>-11.647158</td>\n",
       "      <td>-0.868183</td>\n",
       "      <td>-27.815620</td>\n",
       "      <td>15.300280</td>\n",
       "    </tr>\n",
       "    <tr>\n",
       "      <th>V10</th>\n",
       "      <td>-7.509557</td>\n",
       "      <td>-2.495619</td>\n",
       "      <td>-15.030465</td>\n",
       "      <td>5.025288</td>\n",
       "    </tr>\n",
       "    <tr>\n",
       "      <th>V12</th>\n",
       "      <td>-8.681609</td>\n",
       "      <td>-2.820042</td>\n",
       "      <td>-17.473959</td>\n",
       "      <td>5.972308</td>\n",
       "    </tr>\n",
       "    <tr>\n",
       "      <th>V16</th>\n",
       "      <td>-6.525081</td>\n",
       "      <td>-1.139754</td>\n",
       "      <td>-14.603071</td>\n",
       "      <td>6.938236</td>\n",
       "    </tr>\n",
       "  </tbody>\n",
       "</table>\n",
       "</div>"
      ],
      "text/plain": [
       "          0.25      0.75  lower_cutoff  upper_cutoff\n",
       "V14  -9.657627 -4.211756    -17.826433      3.957050\n",
       "V17 -11.647158 -0.868183    -27.815620     15.300280\n",
       "V10  -7.509557 -2.495619    -15.030465      5.025288\n",
       "V12  -8.681609 -2.820042    -17.473959      5.972308\n",
       "V16  -6.525081 -1.139754    -14.603071      6.938236"
      ]
     },
     "execution_count": 36,
     "metadata": {},
     "output_type": "execute_result"
    }
   ],
   "source": [
    "# First check to make sure that the above code deletes the number of rows correctly\n",
    "\n",
    "# create a dataframe to store the summary stats and the respective cutoffs for the columns\n",
    "outlier_cutoff_df = fraud_resampled_train_df[imp_column_list].quantile([0.25,0.75]).T\n",
    "outlier_cutoff_df['lower_cutoff'] = outlier_cutoff_df[0.25] - 1.5*(outlier_cutoff_df[0.75] - outlier_cutoff_df[0.25])\n",
    "outlier_cutoff_df['upper_cutoff'] = outlier_cutoff_df[0.75] + 1.5*(outlier_cutoff_df[0.75] - outlier_cutoff_df[0.25])\n",
    "\n",
    "outlier_cutoff_df"
   ]
  },
  {
   "cell_type": "code",
   "execution_count": 37,
   "metadata": {},
   "outputs": [
    {
     "name": "stdout",
     "output_type": "stream",
     "text": [
      "Outliers deleted in column V14 is 12\n",
      "Outliers deleted in column V17 is 0\n",
      "Outliers deleted in column V10 is 88\n",
      "Outliers deleted in column V12 is 12\n",
      "Outliers deleted in column V16 is 0\n"
     ]
    }
   ],
   "source": [
    "# go through every important column and remove the outliers\n",
    "for col in imp_column_list:\n",
    "    old_number_of_rows = len(fraud_resampled_train_df)\n",
    "    \n",
    "    upper_cutoff = outlier_cutoff_df.loc[col,'upper_cutoff'] \n",
    "    lower_cutoff = outlier_cutoff_df.loc[col,'lower_cutoff'] \n",
    "\n",
    "    # drop the ones that are above the upper and below the lower\n",
    "    fraud_resampled_train_df = fraud_resampled_train_df.drop(fraud_resampled_train_df[\n",
    "                                                            (fraud_resampled_train_df[col] > upper_cutoff) \n",
    "                                                           | (fraud_resampled_train_df[col] < lower_cutoff)].index)\n",
    "\n",
    "    \n",
    "    print('Outliers deleted in column {} is {}'.format(col ,old_number_of_rows - len(fraud_resampled_train_df)) )\n",
    "    \n",
    "# As expected, V17 doesnt seem to have any outliers "
   ]
  },
  {
   "cell_type": "code",
   "execution_count": 38,
   "metadata": {},
   "outputs": [
    {
     "name": "stdout",
     "output_type": "stream",
     "text": [
      "112.0 Outliers were removed from 1576 number resampled Fraud data \n"
     ]
    }
   ],
   "source": [
    "print('{} Outliers were removed from {} number resampled Fraud data '.format(\n",
    "    sum(XY_resampled_train[target_class_name])-len(fraud_resampled_train_df), \n",
    "    len(XY_resampled_train[XY_resampled_train[target_class_name]==1])))\n",
    "# about 6 % of the overall augmented size"
   ]
  },
  {
   "cell_type": "code",
   "execution_count": 39,
   "metadata": {},
   "outputs": [
    {
     "name": "stdout",
     "output_type": "stream",
     "text": [
      "456366 1464.0\n"
     ]
    },
    {
     "data": {
      "text/html": [
       "<div>\n",
       "<style scoped>\n",
       "    .dataframe tbody tr th:only-of-type {\n",
       "        vertical-align: middle;\n",
       "    }\n",
       "\n",
       "    .dataframe tbody tr th {\n",
       "        vertical-align: top;\n",
       "    }\n",
       "\n",
       "    .dataframe thead th {\n",
       "        text-align: right;\n",
       "    }\n",
       "</style>\n",
       "<table border=\"1\" class=\"dataframe\">\n",
       "  <thead>\n",
       "    <tr style=\"text-align: right;\">\n",
       "      <th></th>\n",
       "      <th>Time</th>\n",
       "      <th>V1</th>\n",
       "      <th>V2</th>\n",
       "      <th>V3</th>\n",
       "      <th>V4</th>\n",
       "      <th>V5</th>\n",
       "      <th>V6</th>\n",
       "      <th>V7</th>\n",
       "      <th>V8</th>\n",
       "      <th>V9</th>\n",
       "      <th>...</th>\n",
       "      <th>V20</th>\n",
       "      <th>V21</th>\n",
       "      <th>V22</th>\n",
       "      <th>V23</th>\n",
       "      <th>V24</th>\n",
       "      <th>V25</th>\n",
       "      <th>V26</th>\n",
       "      <th>V27</th>\n",
       "      <th>V28</th>\n",
       "      <th>Amount</th>\n",
       "    </tr>\n",
       "  </thead>\n",
       "  <tbody>\n",
       "    <tr>\n",
       "      <th>0</th>\n",
       "      <td>161919.0</td>\n",
       "      <td>1.946747</td>\n",
       "      <td>-0.752526</td>\n",
       "      <td>-1.355130</td>\n",
       "      <td>-0.661630</td>\n",
       "      <td>1.502822</td>\n",
       "      <td>4.024933</td>\n",
       "      <td>-1.479661</td>\n",
       "      <td>1.139880</td>\n",
       "      <td>1.406819</td>\n",
       "      <td>...</td>\n",
       "      <td>-0.134435</td>\n",
       "      <td>0.076197</td>\n",
       "      <td>0.297537</td>\n",
       "      <td>0.307915</td>\n",
       "      <td>0.690980</td>\n",
       "      <td>-0.350316</td>\n",
       "      <td>-0.388907</td>\n",
       "      <td>0.077641</td>\n",
       "      <td>-0.032248</td>\n",
       "      <td>7.32</td>\n",
       "    </tr>\n",
       "    <tr>\n",
       "      <th>1</th>\n",
       "      <td>124477.0</td>\n",
       "      <td>2.035149</td>\n",
       "      <td>-0.048880</td>\n",
       "      <td>-3.058693</td>\n",
       "      <td>0.247945</td>\n",
       "      <td>2.943487</td>\n",
       "      <td>3.298697</td>\n",
       "      <td>-0.002192</td>\n",
       "      <td>0.674782</td>\n",
       "      <td>0.045826</td>\n",
       "      <td>...</td>\n",
       "      <td>-0.227279</td>\n",
       "      <td>0.038628</td>\n",
       "      <td>0.228197</td>\n",
       "      <td>0.035542</td>\n",
       "      <td>0.707090</td>\n",
       "      <td>0.512885</td>\n",
       "      <td>-0.471198</td>\n",
       "      <td>0.002520</td>\n",
       "      <td>-0.069002</td>\n",
       "      <td>2.99</td>\n",
       "    </tr>\n",
       "    <tr>\n",
       "      <th>2</th>\n",
       "      <td>41191.0</td>\n",
       "      <td>-0.991920</td>\n",
       "      <td>0.603193</td>\n",
       "      <td>0.711976</td>\n",
       "      <td>-0.992425</td>\n",
       "      <td>-0.825838</td>\n",
       "      <td>1.956261</td>\n",
       "      <td>-2.212603</td>\n",
       "      <td>-5.037523</td>\n",
       "      <td>0.000772</td>\n",
       "      <td>...</td>\n",
       "      <td>1.280856</td>\n",
       "      <td>-2.798352</td>\n",
       "      <td>0.109526</td>\n",
       "      <td>-0.436530</td>\n",
       "      <td>-0.932803</td>\n",
       "      <td>0.826684</td>\n",
       "      <td>0.913773</td>\n",
       "      <td>0.038049</td>\n",
       "      <td>0.185340</td>\n",
       "      <td>175.10</td>\n",
       "    </tr>\n",
       "    <tr>\n",
       "      <th>3</th>\n",
       "      <td>132624.0</td>\n",
       "      <td>2.285718</td>\n",
       "      <td>-1.500239</td>\n",
       "      <td>-0.747565</td>\n",
       "      <td>-1.668119</td>\n",
       "      <td>-1.394143</td>\n",
       "      <td>-0.350339</td>\n",
       "      <td>-1.427984</td>\n",
       "      <td>0.010010</td>\n",
       "      <td>-1.118447</td>\n",
       "      <td>...</td>\n",
       "      <td>-0.490642</td>\n",
       "      <td>-0.139670</td>\n",
       "      <td>0.077013</td>\n",
       "      <td>0.208310</td>\n",
       "      <td>-0.538236</td>\n",
       "      <td>-0.278032</td>\n",
       "      <td>-0.162068</td>\n",
       "      <td>0.018045</td>\n",
       "      <td>-0.063005</td>\n",
       "      <td>6.10</td>\n",
       "    </tr>\n",
       "    <tr>\n",
       "      <th>4</th>\n",
       "      <td>59359.0</td>\n",
       "      <td>-0.448747</td>\n",
       "      <td>-1.011440</td>\n",
       "      <td>0.115903</td>\n",
       "      <td>-3.454854</td>\n",
       "      <td>0.715771</td>\n",
       "      <td>-0.147490</td>\n",
       "      <td>0.504347</td>\n",
       "      <td>-0.113817</td>\n",
       "      <td>-0.044782</td>\n",
       "      <td>...</td>\n",
       "      <td>-0.275297</td>\n",
       "      <td>-0.243245</td>\n",
       "      <td>-0.173298</td>\n",
       "      <td>-0.006692</td>\n",
       "      <td>-1.362383</td>\n",
       "      <td>-0.292234</td>\n",
       "      <td>-0.144622</td>\n",
       "      <td>-0.032580</td>\n",
       "      <td>-0.064194</td>\n",
       "      <td>86.10</td>\n",
       "    </tr>\n",
       "  </tbody>\n",
       "</table>\n",
       "<p>5 rows × 30 columns</p>\n",
       "</div>"
      ],
      "text/plain": [
       "       Time        V1        V2        V3        V4        V5        V6  \\\n",
       "0  161919.0  1.946747 -0.752526 -1.355130 -0.661630  1.502822  4.024933   \n",
       "1  124477.0  2.035149 -0.048880 -3.058693  0.247945  2.943487  3.298697   \n",
       "2   41191.0 -0.991920  0.603193  0.711976 -0.992425 -0.825838  1.956261   \n",
       "3  132624.0  2.285718 -1.500239 -0.747565 -1.668119 -1.394143 -0.350339   \n",
       "4   59359.0 -0.448747 -1.011440  0.115903 -3.454854  0.715771 -0.147490   \n",
       "\n",
       "         V7        V8        V9   ...         V20       V21       V22  \\\n",
       "0 -1.479661  1.139880  1.406819   ...   -0.134435  0.076197  0.297537   \n",
       "1 -0.002192  0.674782  0.045826   ...   -0.227279  0.038628  0.228197   \n",
       "2 -2.212603 -5.037523  0.000772   ...    1.280856 -2.798352  0.109526   \n",
       "3 -1.427984  0.010010 -1.118447   ...   -0.490642 -0.139670  0.077013   \n",
       "4  0.504347 -0.113817 -0.044782   ...   -0.275297 -0.243245 -0.173298   \n",
       "\n",
       "        V23       V24       V25       V26       V27       V28  Amount  \n",
       "0  0.307915  0.690980 -0.350316 -0.388907  0.077641 -0.032248    7.32  \n",
       "1  0.035542  0.707090  0.512885 -0.471198  0.002520 -0.069002    2.99  \n",
       "2 -0.436530 -0.932803  0.826684  0.913773  0.038049  0.185340  175.10  \n",
       "3  0.208310 -0.538236 -0.278032 -0.162068  0.018045 -0.063005    6.10  \n",
       "4 -0.006692 -1.362383 -0.292234 -0.144622 -0.032580 -0.064194   86.10  \n",
       "\n",
       "[5 rows x 30 columns]"
      ]
     },
     "execution_count": 39,
     "metadata": {},
     "output_type": "execute_result"
    }
   ],
   "source": [
    "# Now combine it back with the non_fraud_resampled_train_df and store it\n",
    "\n",
    "XY_resampled_train = pd.concat([non_fraud_resampled_train_df, fraud_resampled_train_df], axis = 0).sort_index()\n",
    "\n",
    "X_cleaned_resampled_train = XY_resampled_train.drop(target_class_name, axis=1)\n",
    "y_cleaned_resampled_train = XY_resampled_train[target_class_name]\n",
    "\n",
    "print(len(X_cleaned_resampled_train), sum(y_cleaned_resampled_train))\n",
    "X_cleaned_resampled_train.head()"
   ]
  },
  {
   "cell_type": "markdown",
   "metadata": {},
   "source": [
    "### <a id = 55> Testing Performance Improvement"
   ]
  },
  {
   "cell_type": "code",
   "execution_count": 41,
   "metadata": {},
   "outputs": [
    {
     "name": "stdout",
     "output_type": "stream",
     "text": [
      "Has a Test accuracy of 100.0 % \n",
      "              precision    recall  f1-score   support\n",
      "\n",
      "   Non-Fraud       1.00      1.00      1.00     56864\n",
      "       Fraud       0.91      0.82      0.86        98\n",
      "\n",
      "   micro avg       1.00      1.00      1.00     56962\n",
      "   macro avg       0.95      0.91      0.93     56962\n",
      "weighted avg       1.00      1.00      1.00     56962\n",
      "\n",
      "The ROC AUC Score on Test set is 0.94\n",
      "Confusion matrix, without normalization\n",
      "[[56856     8]\n",
      " [   18    80]]\n"
     ]
    },
    {
     "data": {
      "image/png": "[encoded data removed]",
      "text/plain": [
       "<Figure size 720x432 with 1 Axes>"
      ]
     },
     "metadata": {},
     "output_type": "display_data"
    },
    {
     "data": {
      "image/png": "[encoded data removed]",
      "text/plain": [
       "<Figure size 576x288 with 2 Axes>"
      ]
     },
     "metadata": {},
     "output_type": "display_data"
    }
   ],
   "source": [
    "_, threshold_precision = test_rf_performance_function(\n",
    "                            X_cleaned_resampled_train, y_cleaned_resampled_train, X_test, y_test, labels)"
   ]
  },
  {
   "cell_type": "code",
   "execution_count": 42,
   "metadata": {},
   "outputs": [
    {
     "name": "stdout",
     "output_type": "stream",
     "text": [
      "0.8585858585858586\n"
     ]
    }
   ],
   "source": [
    "# For comparison, lets print the precision at the recall threshold of 85%\n",
    "print(threshold_precision)"
   ]
  },
  {
   "cell_type": "markdown",
   "metadata": {},
   "source": [
    "The results are slightly worse than they were before. So I am not going to use the dataset obtained by the Outlier detection.\n",
    "Instead use the best resampling results"
   ]
  },
  {
   "cell_type": "markdown",
   "metadata": {},
   "source": [
    "### <a id = 6> Resampled Data Export"
   ]
  },
  {
   "cell_type": "markdown",
   "metadata": {},
   "source": [
    "Lets use the resampled data as the starting point in the future weeks"
   ]
  },
  {
   "cell_type": "code",
   "execution_count": 39,
   "metadata": {},
   "outputs": [
    {
     "data": {
      "text/html": [
       "<div>\n",
       "<style scoped>\n",
       "    .dataframe tbody tr th:only-of-type {\n",
       "        vertical-align: middle;\n",
       "    }\n",
       "\n",
       "    .dataframe tbody tr th {\n",
       "        vertical-align: top;\n",
       "    }\n",
       "\n",
       "    .dataframe thead th {\n",
       "        text-align: right;\n",
       "    }\n",
       "</style>\n",
       "<table border=\"1\" class=\"dataframe\">\n",
       "  <thead>\n",
       "    <tr style=\"text-align: right;\">\n",
       "      <th></th>\n",
       "      <th>Time</th>\n",
       "      <th>V1</th>\n",
       "      <th>V2</th>\n",
       "      <th>V3</th>\n",
       "      <th>V4</th>\n",
       "      <th>V5</th>\n",
       "      <th>V6</th>\n",
       "      <th>V7</th>\n",
       "      <th>V8</th>\n",
       "      <th>V9</th>\n",
       "      <th>...</th>\n",
       "      <th>V20</th>\n",
       "      <th>V21</th>\n",
       "      <th>V22</th>\n",
       "      <th>V23</th>\n",
       "      <th>V24</th>\n",
       "      <th>V25</th>\n",
       "      <th>V26</th>\n",
       "      <th>V27</th>\n",
       "      <th>V28</th>\n",
       "      <th>Amount</th>\n",
       "    </tr>\n",
       "  </thead>\n",
       "  <tbody>\n",
       "    <tr>\n",
       "      <th>0</th>\n",
       "      <td>161919.0</td>\n",
       "      <td>1.946747</td>\n",
       "      <td>-0.752526</td>\n",
       "      <td>-1.355130</td>\n",
       "      <td>-0.661630</td>\n",
       "      <td>1.502822</td>\n",
       "      <td>4.024933</td>\n",
       "      <td>-1.479661</td>\n",
       "      <td>1.139880</td>\n",
       "      <td>1.406819</td>\n",
       "      <td>...</td>\n",
       "      <td>-0.134435</td>\n",
       "      <td>0.076197</td>\n",
       "      <td>0.297537</td>\n",
       "      <td>0.307915</td>\n",
       "      <td>0.690980</td>\n",
       "      <td>-0.350316</td>\n",
       "      <td>-0.388907</td>\n",
       "      <td>0.077641</td>\n",
       "      <td>-0.032248</td>\n",
       "      <td>7.32</td>\n",
       "    </tr>\n",
       "    <tr>\n",
       "      <th>1</th>\n",
       "      <td>124477.0</td>\n",
       "      <td>2.035149</td>\n",
       "      <td>-0.048880</td>\n",
       "      <td>-3.058693</td>\n",
       "      <td>0.247945</td>\n",
       "      <td>2.943487</td>\n",
       "      <td>3.298697</td>\n",
       "      <td>-0.002192</td>\n",
       "      <td>0.674782</td>\n",
       "      <td>0.045826</td>\n",
       "      <td>...</td>\n",
       "      <td>-0.227279</td>\n",
       "      <td>0.038628</td>\n",
       "      <td>0.228197</td>\n",
       "      <td>0.035542</td>\n",
       "      <td>0.707090</td>\n",
       "      <td>0.512885</td>\n",
       "      <td>-0.471198</td>\n",
       "      <td>0.002520</td>\n",
       "      <td>-0.069002</td>\n",
       "      <td>2.99</td>\n",
       "    </tr>\n",
       "    <tr>\n",
       "      <th>2</th>\n",
       "      <td>41191.0</td>\n",
       "      <td>-0.991920</td>\n",
       "      <td>0.603193</td>\n",
       "      <td>0.711976</td>\n",
       "      <td>-0.992425</td>\n",
       "      <td>-0.825838</td>\n",
       "      <td>1.956261</td>\n",
       "      <td>-2.212603</td>\n",
       "      <td>-5.037523</td>\n",
       "      <td>0.000772</td>\n",
       "      <td>...</td>\n",
       "      <td>1.280856</td>\n",
       "      <td>-2.798352</td>\n",
       "      <td>0.109526</td>\n",
       "      <td>-0.436530</td>\n",
       "      <td>-0.932803</td>\n",
       "      <td>0.826684</td>\n",
       "      <td>0.913773</td>\n",
       "      <td>0.038049</td>\n",
       "      <td>0.185340</td>\n",
       "      <td>175.10</td>\n",
       "    </tr>\n",
       "    <tr>\n",
       "      <th>3</th>\n",
       "      <td>132624.0</td>\n",
       "      <td>2.285718</td>\n",
       "      <td>-1.500239</td>\n",
       "      <td>-0.747565</td>\n",
       "      <td>-1.668119</td>\n",
       "      <td>-1.394143</td>\n",
       "      <td>-0.350339</td>\n",
       "      <td>-1.427984</td>\n",
       "      <td>0.010010</td>\n",
       "      <td>-1.118447</td>\n",
       "      <td>...</td>\n",
       "      <td>-0.490642</td>\n",
       "      <td>-0.139670</td>\n",
       "      <td>0.077013</td>\n",
       "      <td>0.208310</td>\n",
       "      <td>-0.538236</td>\n",
       "      <td>-0.278032</td>\n",
       "      <td>-0.162068</td>\n",
       "      <td>0.018045</td>\n",
       "      <td>-0.063005</td>\n",
       "      <td>6.10</td>\n",
       "    </tr>\n",
       "    <tr>\n",
       "      <th>4</th>\n",
       "      <td>59359.0</td>\n",
       "      <td>-0.448747</td>\n",
       "      <td>-1.011440</td>\n",
       "      <td>0.115903</td>\n",
       "      <td>-3.454854</td>\n",
       "      <td>0.715771</td>\n",
       "      <td>-0.147490</td>\n",
       "      <td>0.504347</td>\n",
       "      <td>-0.113817</td>\n",
       "      <td>-0.044782</td>\n",
       "      <td>...</td>\n",
       "      <td>-0.275297</td>\n",
       "      <td>-0.243245</td>\n",
       "      <td>-0.173298</td>\n",
       "      <td>-0.006692</td>\n",
       "      <td>-1.362383</td>\n",
       "      <td>-0.292234</td>\n",
       "      <td>-0.144622</td>\n",
       "      <td>-0.032580</td>\n",
       "      <td>-0.064194</td>\n",
       "      <td>86.10</td>\n",
       "    </tr>\n",
       "  </tbody>\n",
       "</table>\n",
       "<p>5 rows × 30 columns</p>\n",
       "</div>"
      ],
      "text/plain": [
       "       Time        V1        V2        V3        V4        V5        V6  \\\n",
       "0  161919.0  1.946747 -0.752526 -1.355130 -0.661630  1.502822  4.024933   \n",
       "1  124477.0  2.035149 -0.048880 -3.058693  0.247945  2.943487  3.298697   \n",
       "2   41191.0 -0.991920  0.603193  0.711976 -0.992425 -0.825838  1.956261   \n",
       "3  132624.0  2.285718 -1.500239 -0.747565 -1.668119 -1.394143 -0.350339   \n",
       "4   59359.0 -0.448747 -1.011440  0.115903 -3.454854  0.715771 -0.147490   \n",
       "\n",
       "         V7        V8        V9   ...         V20       V21       V22  \\\n",
       "0 -1.479661  1.139880  1.406819   ...   -0.134435  0.076197  0.297537   \n",
       "1 -0.002192  0.674782  0.045826   ...   -0.227279  0.038628  0.228197   \n",
       "2 -2.212603 -5.037523  0.000772   ...    1.280856 -2.798352  0.109526   \n",
       "3 -1.427984  0.010010 -1.118447   ...   -0.490642 -0.139670  0.077013   \n",
       "4  0.504347 -0.113817 -0.044782   ...   -0.275297 -0.243245 -0.173298   \n",
       "\n",
       "        V23       V24       V25       V26       V27       V28  Amount  \n",
       "0  0.307915  0.690980 -0.350316 -0.388907  0.077641 -0.032248    7.32  \n",
       "1  0.035542  0.707090  0.512885 -0.471198  0.002520 -0.069002    2.99  \n",
       "2 -0.436530 -0.932803  0.826684  0.913773  0.038049  0.185340  175.10  \n",
       "3  0.208310 -0.538236 -0.278032 -0.162068  0.018045 -0.063005    6.10  \n",
       "4 -0.006692 -1.362383 -0.292234 -0.144622 -0.032580 -0.064194   86.10  \n",
       "\n",
       "[5 rows x 30 columns]"
      ]
     },
     "execution_count": 39,
     "metadata": {},
     "output_type": "execute_result"
    }
   ],
   "source": [
    "X_resampled_train.head()"
   ]
  },
  {
   "cell_type": "code",
   "execution_count": 40,
   "metadata": {},
   "outputs": [],
   "source": [
    "from helper_functions_comprehensive import data_export_function"
   ]
  },
  {
   "cell_type": "code",
   "execution_count": 41,
   "metadata": {},
   "outputs": [],
   "source": [
    "data_export_function(X_resampled_train, y_resampled_train, y_train, y_test, \n",
    "                         intermediate_data_path, output_df_file_name, export_date)"
   ]
  },
  {
   "cell_type": "markdown",
   "metadata": {},
   "source": [
    "## <a id='7'>References</a> "
   ]
  },
  {
   "cell_type": "markdown",
   "metadata": {},
   "source": [
    "A very good Kaggle notebook for understanding SMOTE \n",
    "https://www.kaggle.com/janiobachmann/credit-fraud-dealing-with-imbalanced-datasets\n",
    "\n",
    "Understanding IQR and Z scores for Outlier detection and removal\n",
    "http://colingorrie.github.io/outlier-detection.html"
   ]
  },
  {
   "cell_type": "code",
   "execution_count": 42,
   "metadata": {},
   "outputs": [],
   "source": [
    "# In future weeks, we are going to try out feature engineering to synthetically increase the number of features available"
   ]
  }
 ],
 "metadata": {
  "kernelspec": {
   "display_name": "Python 3",
   "language": "python",
   "name": "python3"
  },
  "language_info": {
   "codemirror_mode": {
    "name": "ipython",
    "version": 3
   },
   "file_extension": ".py",
   "mimetype": "text/x-python",
   "name": "python",
   "nbconvert_exporter": "python",
   "pygments_lexer": "ipython3",
   "version": "3.6.5"
  }
 },
 "nbformat": 4,
 "nbformat_minor": 2
}
